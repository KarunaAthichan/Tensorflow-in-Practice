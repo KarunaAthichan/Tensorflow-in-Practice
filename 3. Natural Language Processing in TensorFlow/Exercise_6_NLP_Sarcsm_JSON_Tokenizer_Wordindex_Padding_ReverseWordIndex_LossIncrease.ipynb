{
 "cells": [
  {
   "cell_type": "code",
   "execution_count": null,
   "metadata": {
    "id": "zX4Kg8DUTKWO"
   },
   "outputs": [],
   "source": [
    "#@title Licensed under the Apache License, Version 2.0 (the \"License\");\n",
    "# you may not use this file except in compliance with the License.\n",
    "# You may obtain a copy of the License at\n",
    "#\n",
    "# https://www.apache.org/licenses/LICENSE-2.0\n",
    "#\n",
    "# Unless required by applicable law or agreed to in writing, software\n",
    "# distributed under the License is distributed on an \"AS IS\" BASIS,\n",
    "# WITHOUT WARRANTIES OR CONDITIONS OF ANY KIND, either express or implied.\n",
    "# See the License for the specific language governing permissions and\n",
    "# limitations under the License."
   ]
  },
  {
   "cell_type": "markdown",
   "metadata": {
    "id": "view-in-github"
   },
   "source": [
    "<a href=\"https://colab.research.google.com/github/lmoroney/dlaicourse/blob/master/TensorFlow%20In%20Practice/Course%203%20-%20NLP/Course%203%20-%20Week%202%20-%20Lesson%202.ipynb\" target=\"_parent\"><img src=\"https://colab.research.google.com/assets/colab-badge.svg\" alt=\"Open In Colab\"/></a>"
   ]
  },
  {
   "cell_type": "code",
   "execution_count": null,
   "metadata": {
    "id": "4gs9htvM7n_x"
   },
   "outputs": [],
   "source": [
    "# Run this to ensure TensorFlow 2.x is used\n",
    "try:\n",
    "  # %tensorflow_version only exists in Colab.\n",
    "  %tensorflow_version 2.x\n",
    "except Exception:\n",
    "  pass"
   ]
  },
  {
   "cell_type": "code",
   "execution_count": null,
   "metadata": {
    "id": "XYYDvoskkE61"
   },
   "outputs": [],
   "source": [
    "import json\n",
    "import tensorflow as tf\n",
    "\n",
    "from tensorflow.keras.preprocessing.text import Tokenizer\n",
    "from tensorflow.keras.preprocessing.sequence import pad_sequences"
   ]
  },
  {
   "cell_type": "code",
   "execution_count": null,
   "metadata": {
    "id": "0eJSTTYnkJQd"
   },
   "outputs": [],
   "source": [
    "vocab_size = 1000   #10000\n",
    "embedding_dim = 32  #16\n",
    "max_length = 16  #100\n",
    "trunc_type='post'\n",
    "padding_type='post'\n",
    "oov_tok = \"<OOV>\"\n",
    "training_size = 20000\n"
   ]
  },
  {
   "cell_type": "code",
   "execution_count": null,
   "metadata": {
    "colab": {
     "base_uri": "https://localhost:8080/"
    },
    "executionInfo": {
     "elapsed": 337,
     "status": "ok",
     "timestamp": 1617421752322,
     "user": {
      "displayName": "",
      "photoUrl": "",
      "userId": ""
     },
     "user_tz": 240
    },
    "id": "BQVuQrZNkPn9",
    "outputId": "623a5ac2-a9dd-437d-dde4-788fc101bca9"
   },
   "outputs": [
    {
     "name": "stdout",
     "output_type": "stream",
     "text": [
      "--2021-04-03 03:49:12--  https://storage.googleapis.com/laurencemoroney-blog.appspot.com/sarcasm.json\n",
      "Resolving storage.googleapis.com (storage.googleapis.com)... 142.250.65.80, 172.217.7.176, 172.217.15.80, ...\n",
      "Connecting to storage.googleapis.com (storage.googleapis.com)|142.250.65.80|:443... connected.\n",
      "HTTP request sent, awaiting response... 200 OK\n",
      "Length: 5643545 (5.4M) [application/json]\n",
      "Saving to: ‘/tmp/sarcasm.json’\n",
      "\n",
      "\r",
      "/tmp/sarcasm.json     0%[                    ]       0  --.-KB/s               \r",
      "/tmp/sarcasm.json   100%[===================>]   5.38M  --.-KB/s    in 0.02s   \n",
      "\n",
      "2021-04-03 03:49:12 (260 MB/s) - ‘/tmp/sarcasm.json’ saved [5643545/5643545]\n",
      "\n"
     ]
    }
   ],
   "source": [
    "!wget --no-check-certificate \\\n",
    "    https://storage.googleapis.com/laurencemoroney-blog.appspot.com/sarcasm.json \\\n",
    "    -O /tmp/sarcasm.json\n"
   ]
  },
  {
   "cell_type": "code",
   "execution_count": null,
   "metadata": {
    "id": "oaLaaqhNkUPd"
   },
   "outputs": [],
   "source": [
    "with open(\"/tmp/sarcasm.json\", 'r') as f:\n",
    "    datastore = json.load(f)\n",
    "\n",
    "sentences = []\n",
    "labels = []\n",
    "\n",
    "for item in datastore:\n",
    "    sentences.append(item['headline'])\n",
    "    labels.append(item['is_sarcastic'])"
   ]
  },
  {
   "cell_type": "code",
   "execution_count": null,
   "metadata": {
    "id": "S1sD-7v0kYWk"
   },
   "outputs": [],
   "source": [
    "training_sentences = sentences[0:training_size]\n",
    "testing_sentences = sentences[training_size:]\n",
    "training_labels = labels[0:training_size]\n",
    "testing_labels = labels[training_size:]"
   ]
  },
  {
   "cell_type": "code",
   "execution_count": null,
   "metadata": {
    "id": "3u8UB0MCkZ5N"
   },
   "outputs": [],
   "source": [
    "tokenizer = Tokenizer(num_words=vocab_size, oov_token=oov_tok)\n",
    "tokenizer.fit_on_texts(training_sentences)\n",
    "\n",
    "word_index = tokenizer.word_index\n",
    "\n",
    "training_sequences = tokenizer.texts_to_sequences(training_sentences)\n",
    "training_padded = pad_sequences(training_sequences, maxlen=max_length, padding=padding_type, truncating=trunc_type)\n",
    "\n",
    "testing_sequences = tokenizer.texts_to_sequences(testing_sentences)\n",
    "testing_padded = pad_sequences(testing_sequences, maxlen=max_length, padding=padding_type, truncating=trunc_type)"
   ]
  },
  {
   "cell_type": "code",
   "execution_count": null,
   "metadata": {
    "id": "GrAlWBKf99Ya"
   },
   "outputs": [],
   "source": [
    "# Need this block to get it to work with TensorFlow 2.x\n",
    "import numpy as np\n",
    "training_padded = np.array(training_padded)\n",
    "training_labels = np.array(training_labels)\n",
    "testing_padded = np.array(testing_padded)\n",
    "testing_labels = np.array(testing_labels)"
   ]
  },
  {
   "cell_type": "code",
   "execution_count": null,
   "metadata": {
    "id": "FufaT4vlkiDE"
   },
   "outputs": [],
   "source": [
    "model = tf.keras.Sequential([\n",
    "    tf.keras.layers.Embedding(vocab_size, embedding_dim, input_length=max_length),\n",
    "    tf.keras.layers.GlobalAveragePooling1D(),\n",
    "    tf.keras.layers.Dense(24, activation='relu'),\n",
    "    tf.keras.layers.Dense(1, activation='sigmoid')\n",
    "])\n",
    "model.compile(loss='binary_crossentropy',optimizer='adam',metrics=['accuracy'])"
   ]
  },
  {
   "cell_type": "code",
   "execution_count": null,
   "metadata": {
    "colab": {
     "base_uri": "https://localhost:8080/"
    },
    "executionInfo": {
     "elapsed": 217,
     "status": "ok",
     "timestamp": 1617421764664,
     "user": {
      "displayName": "",
      "photoUrl": "",
      "userId": ""
     },
     "user_tz": 240
    },
    "id": "XfDt1hmYkiys",
    "outputId": "5f60f10b-158d-42a1-becc-35f9ae652203"
   },
   "outputs": [
    {
     "name": "stdout",
     "output_type": "stream",
     "text": [
      "Model: \"sequential_3\"\n",
      "_________________________________________________________________\n",
      "Layer (type)                 Output Shape              Param #   \n",
      "=================================================================\n",
      "embedding_3 (Embedding)      (None, 16, 32)            32000     \n",
      "_________________________________________________________________\n",
      "global_average_pooling1d_3 ( (None, 32)                0         \n",
      "_________________________________________________________________\n",
      "dense_6 (Dense)              (None, 24)                792       \n",
      "_________________________________________________________________\n",
      "dense_7 (Dense)              (None, 1)                 25        \n",
      "=================================================================\n",
      "Total params: 32,817\n",
      "Trainable params: 32,817\n",
      "Non-trainable params: 0\n",
      "_________________________________________________________________\n"
     ]
    }
   ],
   "source": [
    "model.summary()\n"
   ]
  },
  {
   "cell_type": "code",
   "execution_count": null,
   "metadata": {
    "colab": {
     "base_uri": "https://localhost:8080/"
    },
    "executionInfo": {
     "elapsed": 43245,
     "status": "ok",
     "timestamp": 1617421810571,
     "user": {
      "displayName": "",
      "photoUrl": "",
      "userId": ""
     },
     "user_tz": 240
    },
    "id": "2DTKQFf1kkyc",
    "outputId": "2a003c9f-a84b-49c7-a7cb-3247ae6a5ba9"
   },
   "outputs": [
    {
     "name": "stdout",
     "output_type": "stream",
     "text": [
      "Epoch 1/30\n",
      "625/625 - 2s - loss: 0.5016 - accuracy: 0.7478 - val_loss: 0.4112 - val_accuracy: 0.8034\n",
      "Epoch 2/30\n",
      "625/625 - 1s - loss: 0.3758 - accuracy: 0.8285 - val_loss: 0.4084 - val_accuracy: 0.8120\n",
      "Epoch 3/30\n",
      "625/625 - 1s - loss: 0.3643 - accuracy: 0.8342 - val_loss: 0.4006 - val_accuracy: 0.8159\n",
      "Epoch 4/30\n",
      "625/625 - 1s - loss: 0.3588 - accuracy: 0.8369 - val_loss: 0.4040 - val_accuracy: 0.8129\n",
      "Epoch 5/30\n",
      "625/625 - 1s - loss: 0.3569 - accuracy: 0.8375 - val_loss: 0.4031 - val_accuracy: 0.8141\n",
      "Epoch 6/30\n",
      "625/625 - 1s - loss: 0.3546 - accuracy: 0.8388 - val_loss: 0.4063 - val_accuracy: 0.8117\n",
      "Epoch 7/30\n",
      "625/625 - 1s - loss: 0.3530 - accuracy: 0.8387 - val_loss: 0.4016 - val_accuracy: 0.8147\n",
      "Epoch 8/30\n",
      "625/625 - 1s - loss: 0.3497 - accuracy: 0.8400 - val_loss: 0.4012 - val_accuracy: 0.8143\n",
      "Epoch 9/30\n",
      "625/625 - 1s - loss: 0.3454 - accuracy: 0.8438 - val_loss: 0.3961 - val_accuracy: 0.8177\n",
      "Epoch 10/30\n",
      "625/625 - 1s - loss: 0.3399 - accuracy: 0.8453 - val_loss: 0.3937 - val_accuracy: 0.8186\n",
      "Epoch 11/30\n",
      "625/625 - 1s - loss: 0.3354 - accuracy: 0.8475 - val_loss: 0.3930 - val_accuracy: 0.8189\n",
      "Epoch 12/30\n",
      "625/625 - 1s - loss: 0.3308 - accuracy: 0.8518 - val_loss: 0.3993 - val_accuracy: 0.8185\n",
      "Epoch 13/30\n",
      "625/625 - 1s - loss: 0.3279 - accuracy: 0.8533 - val_loss: 0.3932 - val_accuracy: 0.8234\n",
      "Epoch 14/30\n",
      "625/625 - 1s - loss: 0.3234 - accuracy: 0.8541 - val_loss: 0.3943 - val_accuracy: 0.8235\n",
      "Epoch 15/30\n",
      "625/625 - 1s - loss: 0.3202 - accuracy: 0.8589 - val_loss: 0.3974 - val_accuracy: 0.8207\n",
      "Epoch 16/30\n",
      "625/625 - 1s - loss: 0.3177 - accuracy: 0.8571 - val_loss: 0.4008 - val_accuracy: 0.8185\n",
      "Epoch 17/30\n",
      "625/625 - 1s - loss: 0.3149 - accuracy: 0.8619 - val_loss: 0.4014 - val_accuracy: 0.8188\n",
      "Epoch 18/30\n",
      "625/625 - 1s - loss: 0.3128 - accuracy: 0.8609 - val_loss: 0.4033 - val_accuracy: 0.8201\n",
      "Epoch 19/30\n",
      "625/625 - 1s - loss: 0.3113 - accuracy: 0.8618 - val_loss: 0.4036 - val_accuracy: 0.8147\n",
      "Epoch 20/30\n",
      "625/625 - 1s - loss: 0.3095 - accuracy: 0.8619 - val_loss: 0.4076 - val_accuracy: 0.8186\n",
      "Epoch 21/30\n",
      "625/625 - 1s - loss: 0.3069 - accuracy: 0.8637 - val_loss: 0.4176 - val_accuracy: 0.8150\n",
      "Epoch 22/30\n",
      "625/625 - 1s - loss: 0.3054 - accuracy: 0.8641 - val_loss: 0.4149 - val_accuracy: 0.8134\n",
      "Epoch 23/30\n",
      "625/625 - 1s - loss: 0.3041 - accuracy: 0.8644 - val_loss: 0.4148 - val_accuracy: 0.8165\n",
      "Epoch 24/30\n",
      "625/625 - 1s - loss: 0.3014 - accuracy: 0.8670 - val_loss: 0.4168 - val_accuracy: 0.8177\n",
      "Epoch 25/30\n",
      "625/625 - 1s - loss: 0.3006 - accuracy: 0.8661 - val_loss: 0.4195 - val_accuracy: 0.8171\n",
      "Epoch 26/30\n",
      "625/625 - 1s - loss: 0.2982 - accuracy: 0.8681 - val_loss: 0.4169 - val_accuracy: 0.8176\n",
      "Epoch 27/30\n",
      "625/625 - 1s - loss: 0.2963 - accuracy: 0.8696 - val_loss: 0.4266 - val_accuracy: 0.8140\n",
      "Epoch 28/30\n",
      "625/625 - 1s - loss: 0.2950 - accuracy: 0.8691 - val_loss: 0.4231 - val_accuracy: 0.8161\n",
      "Epoch 29/30\n",
      "625/625 - 1s - loss: 0.2929 - accuracy: 0.8706 - val_loss: 0.4321 - val_accuracy: 0.8177\n",
      "Epoch 30/30\n",
      "625/625 - 1s - loss: 0.2911 - accuracy: 0.8712 - val_loss: 0.4280 - val_accuracy: 0.8144\n"
     ]
    }
   ],
   "source": [
    "num_epochs = 30\n",
    "history = model.fit(training_padded, training_labels, epochs=num_epochs, validation_data=(testing_padded, testing_labels), verbose=2)"
   ]
  },
  {
   "cell_type": "code",
   "execution_count": null,
   "metadata": {
    "colab": {
     "base_uri": "https://localhost:8080/",
     "height": 541
    },
    "executionInfo": {
     "elapsed": 511,
     "status": "ok",
     "timestamp": 1617421815920,
     "user": {
      "displayName": "",
      "photoUrl": "",
      "userId": ""
     },
     "user_tz": 240
    },
    "id": "2HYfBKXjkmU8",
    "outputId": "276a64b8-cad7-432a-8556-21aae0a5fd51"
   },
   "outputs": [
    {
     "data": {
      "image/png": "[encoded data removed]",
      "text/plain": [
       "<Figure size 432x288 with 1 Axes>"
      ]
     },
     "metadata": {
      "needs_background": "light",
      "tags": []
     },
     "output_type": "display_data"
    },
    {
     "data": {
      "image/png": "[encoded data removed]",
      "text/plain": [
       "<Figure size 432x288 with 1 Axes>"
      ]
     },
     "metadata": {
      "needs_background": "light",
      "tags": []
     },
     "output_type": "display_data"
    }
   ],
   "source": [
    "import matplotlib.pyplot as plt\n",
    "\n",
    "\n",
    "def plot_graphs(history, string):\n",
    "  plt.plot(history.history[string])\n",
    "  plt.plot(history.history['val_'+string])\n",
    "  plt.xlabel(\"Epochs\")\n",
    "  plt.ylabel(string)\n",
    "  plt.legend([string, 'val_'+string])\n",
    "  plt.show()\n",
    "  \n",
    "plot_graphs(history, \"accuracy\")\n",
    "plot_graphs(history, \"loss\")"
   ]
  },
  {
   "cell_type": "code",
   "execution_count": null,
   "metadata": {
    "id": "7SBdAZAenvzL"
   },
   "outputs": [],
   "source": [
    "reverse_word_index = dict([(value, key) for (key, value) in word_index.items()])\n",
    "\n",
    "def decode_sentence(text):\n",
    "    return ' '.join([reverse_word_index.get(i, '?') for i in text])\n",
    "\n",
    "print(decode_sentence(training_padded[0]))\n",
    "print(training_sentences[2])\n",
    "print(labels[2])"
   ]
  },
  {
   "cell_type": "code",
   "execution_count": null,
   "metadata": {
    "id": "c9MqihtEkzQ9"
   },
   "outputs": [],
   "source": [
    "e = model.layers[0]\n",
    "weights = e.get_weights()[0]\n",
    "print(weights.shape) # shape: (vocab_size, embedding_dim)\n"
   ]
  },
  {
   "cell_type": "code",
   "execution_count": null,
   "metadata": {
    "id": "LoBXVffknldU"
   },
   "outputs": [],
   "source": [
    "import io\n",
    "\n",
    "out_v = io.open('vecs.tsv', 'w', encoding='utf-8')\n",
    "out_m = io.open('meta.tsv', 'w', encoding='utf-8')\n",
    "for word_num in range(1, vocab_size):\n",
    "  word = reverse_word_index[word_num]\n",
    "  embeddings = weights[word_num]\n",
    "  out_m.write(word + \"\\n\")\n",
    "  out_v.write('\\t'.join([str(x) for x in embeddings]) + \"\\n\")\n",
    "out_v.close()\n",
    "out_m.close()"
   ]
  },
  {
   "cell_type": "code",
   "execution_count": null,
   "metadata": {
    "id": "U4eZ5HtVnnEE"
   },
   "outputs": [],
   "source": [
    "try:\n",
    "  from google.colab import files\n",
    "except ImportError:\n",
    "  pass\n",
    "else:\n",
    "  files.download('vecs.tsv')\n",
    "  files.download('meta.tsv')"
   ]
  },
  {
   "cell_type": "code",
   "execution_count": null,
   "metadata": {
    "id": "cG8-ArY-qDcz"
   },
   "outputs": [],
   "source": [
    "sentence = [\"granny starting to fear spiders in the garden might be real\", \"game of thrones season finale showing this sunday night\"]\n",
    "sequences = tokenizer.texts_to_sequences(sentence)\n",
    "padded = pad_sequences(sequences, maxlen=max_length, padding=padding_type, truncating=trunc_type)\n",
    "print(model.predict(padded))"
   ]
  }
 ],
 "metadata": {
  "accelerator": "GPU",
  "colab": {
   "collapsed_sections": [],
   "name": "Copy of Course 3 - Week 2 - Lesson 2.ipynb",
   "provenance": [
    {
     "file_id": "https://github.com/lmoroney/dlaicourse/blob/master/TensorFlow%20In%20Practice/Course%203%20-%20NLP/Course%203%20-%20Week%202%20-%20Lesson%202.ipynb",
     "timestamp": 1617421837622
    }
   ],
   "toc_visible": true
  },
  "kernelspec": {
   "display_name": "Python 3",
   "language": "python",
   "name": "python3"
  },
  "language_info": {
   "codemirror_mode": {
    "name": "ipython",
    "version": 3
   },
   "file_extension": ".py",
   "mimetype": "text/x-python",
   "name": "python",
   "nbconvert_exporter": "python",
   "pygments_lexer": "ipython3",
   "version": "3.8.3"
  }
 },
 "nbformat": 4,
 "nbformat_minor": 1
}
