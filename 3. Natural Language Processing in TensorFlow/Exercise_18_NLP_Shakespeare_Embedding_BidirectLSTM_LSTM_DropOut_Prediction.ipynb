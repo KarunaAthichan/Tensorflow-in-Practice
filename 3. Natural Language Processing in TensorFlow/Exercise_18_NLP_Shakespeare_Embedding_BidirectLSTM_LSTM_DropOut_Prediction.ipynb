{
 "cells": [
  {
   "cell_type": "code",
   "execution_count": null,
   "metadata": {
    "id": "zX4Kg8DUTKWO"
   },
   "outputs": [],
   "source": [
    "#@title Licensed under the Apache License, Version 2.0 (the \"License\");\n",
    "# you may not use this file except in compliance with the License.\n",
    "# You may obtain a copy of the License at\n",
    "#\n",
    "# https://www.apache.org/licenses/LICENSE-2.0\n",
    "#\n",
    "# Unless required by applicable law or agreed to in writing, software\n",
    "# distributed under the License is distributed on an \"AS IS\" BASIS,\n",
    "# WITHOUT WARRANTIES OR CONDITIONS OF ANY KIND, either express or implied.\n",
    "# See the License for the specific language governing permissions and\n",
    "# limitations under the License."
   ]
  },
  {
   "cell_type": "code",
   "execution_count": null,
   "metadata": {
    "id": "BOwsuGQQY9OL"
   },
   "outputs": [],
   "source": [
    "from tensorflow.keras.preprocessing.sequence import pad_sequences\n",
    "from tensorflow.keras.layers import Embedding, LSTM, Dense, Dropout, Bidirectional\n",
    "from tensorflow.keras.preprocessing.text import Tokenizer\n",
    "from tensorflow.keras.models import Sequential\n",
    "from tensorflow.keras.optimizers import Adam\n",
    "### YOUR CODE HERE\n",
    "from tensorflow.keras import regularizers\n",
    "###\n",
    "import tensorflow.keras.utils as ku \n",
    "import numpy as np "
   ]
  },
  {
   "cell_type": "code",
   "execution_count": null,
   "metadata": {
    "colab": {
     "base_uri": "https://localhost:8080/"
    },
    "executionInfo": {
     "elapsed": 1048,
     "status": "ok",
     "timestamp": 1617762097731,
     "user": {
      "displayName": "",
      "photoUrl": "",
      "userId": ""
     },
     "user_tz": 240
    },
    "id": "PRnDnCW-Z7qv",
    "outputId": "b577fccd-340c-4b67-d39b-cec4910799ca"
   },
   "outputs": [
    {
     "name": "stdout",
     "output_type": "stream",
     "text": [
      "--2021-04-07 02:21:38--  https://storage.googleapis.com/laurencemoroney-blog.appspot.com/sonnets.txt\n",
      "Resolving storage.googleapis.com (storage.googleapis.com)... 74.125.142.128, 74.125.195.128, 2607:f8b0:400e:c01::80, ...\n",
      "Connecting to storage.googleapis.com (storage.googleapis.com)|74.125.142.128|:443... connected.\n",
      "HTTP request sent, awaiting response... 200 OK\n",
      "Length: 93578 (91K) [text/plain]\n",
      "Saving to: ‘/tmp/sonnets.txt’\n",
      "\n",
      "\r",
      "/tmp/sonnets.txt      0%[                    ]       0  --.-KB/s               \r",
      "/tmp/sonnets.txt    100%[===================>]  91.38K  --.-KB/s    in 0.004s  \n",
      "\n",
      "2021-04-07 02:21:38 (23.3 MB/s) - ‘/tmp/sonnets.txt’ saved [93578/93578]\n",
      "\n"
     ]
    }
   ],
   "source": [
    "tokenizer = Tokenizer()\n",
    "!wget --no-check-certificate \\\n",
    "    https://storage.googleapis.com/laurencemoroney-blog.appspot.com/sonnets.txt \\\n",
    "    -O /tmp/sonnets.txt\n",
    "data = open('/tmp/sonnets.txt').read()\n",
    "\n",
    "corpus = data.lower().split(\"\\n\")\n",
    "\n",
    "\n",
    "tokenizer.fit_on_texts(corpus)\n",
    "total_words = len(tokenizer.word_index) + 1\n",
    "\n",
    "# create input sequences using list of tokens\n",
    "input_sequences = []\n",
    "for line in corpus:\n",
    "\ttoken_list = tokenizer.texts_to_sequences([line])[0]\n",
    "\tfor i in range(1, len(token_list)):\n",
    "\t\tn_gram_sequence = token_list[:i+1]\n",
    "\t\tinput_sequences.append(n_gram_sequence)\n",
    "\n",
    "\n",
    "# pad sequences \n",
    "max_sequence_len = max([len(x) for x in input_sequences])\n",
    "input_sequences = np.array(pad_sequences(input_sequences, maxlen=max_sequence_len, padding='pre'))\n",
    "\n",
    "# create predictors and label\n",
    "predictors, label = input_sequences[:,:-1],input_sequences[:,-1]\n",
    "\n",
    "label = ku.to_categorical(label, num_classes=total_words)"
   ]
  },
  {
   "cell_type": "code",
   "execution_count": null,
   "metadata": {
    "colab": {
     "base_uri": "https://localhost:8080/"
    },
    "executionInfo": {
     "elapsed": 6318,
     "status": "ok",
     "timestamp": 1617762368546,
     "user": {
      "displayName": "",
      "photoUrl": "",
      "userId": ""
     },
     "user_tz": 240
    },
    "id": "w9vH8Y59ajYL",
    "outputId": "02888c1a-0e63-495d-a89c-fabf180012a6"
   },
   "outputs": [
    {
     "name": "stdout",
     "output_type": "stream",
     "text": [
      "Model: \"sequential\"\n",
      "_________________________________________________________________\n",
      "Layer (type)                 Output Shape              Param #   \n",
      "=================================================================\n",
      "embedding (Embedding)        (None, 10, 128)           411008    \n",
      "_________________________________________________________________\n",
      "bidirectional (Bidirectional (None, 10, 240)           239040    \n",
      "_________________________________________________________________\n",
      "dropout (Dropout)            (None, 10, 240)           0         \n",
      "_________________________________________________________________\n",
      "lstm_1 (LSTM)                (None, 96)                129408    \n",
      "_________________________________________________________________\n",
      "dense (Dense)                (None, 1605)              155685    \n",
      "_________________________________________________________________\n",
      "dense_1 (Dense)              (None, 3211)              5156866   \n",
      "=================================================================\n",
      "Total params: 6,092,007\n",
      "Trainable params: 6,092,007\n",
      "Non-trainable params: 0\n",
      "_________________________________________________________________\n",
      "None\n"
     ]
    }
   ],
   "source": [
    "model = Sequential()\n",
    "model.add(Embedding(total_words, 128, input_length=max_sequence_len - 1))\n",
    "model.add(Bidirectional(LSTM(120, return_sequences=True)))\n",
    "model.add(Dropout(0.2))\n",
    "model.add(LSTM(96))\n",
    "model.add(Dense(total_words/2, activation='relu', kernel_regularizer=regularizers.l2(0.01)))\n",
    "model.add(Dense(total_words, activation='softmax'))\n",
    "# Pick an optimizer\n",
    "model.compile(loss='categorical_crossentropy',\n",
    "    optimizer='adam',\n",
    "    metrics=['accuracy'])\n",
    "print(model.summary())\n"
   ]
  },
  {
   "cell_type": "code",
   "execution_count": null,
   "metadata": {
    "colab": {
     "base_uri": "https://localhost:8080/"
    },
    "executionInfo": {
     "elapsed": 616773,
     "status": "ok",
     "timestamp": 1617762992130,
     "user": {
      "displayName": "",
      "photoUrl": "",
      "userId": ""
     },
     "user_tz": 240
    },
    "id": "AIg2f1HBxqof",
    "outputId": "bd08437f-5a72-4275-dcf5-f818c37af321"
   },
   "outputs": [
    {
     "name": "stdout",
     "output_type": "stream",
     "text": [
      "Epoch 1/100\n",
      "484/484 [==============================] - 41s 13ms/step - loss: 7.3241 - accuracy: 0.0189\n",
      "Epoch 2/100\n",
      "484/484 [==============================] - 6s 12ms/step - loss: 6.4757 - accuracy: 0.0211\n",
      "Epoch 3/100\n",
      "484/484 [==============================] - 6s 12ms/step - loss: 6.3394 - accuracy: 0.0237\n",
      "Epoch 4/100\n",
      "484/484 [==============================] - 6s 12ms/step - loss: 6.2268 - accuracy: 0.0324\n",
      "Epoch 5/100\n",
      "484/484 [==============================] - 6s 12ms/step - loss: 6.1417 - accuracy: 0.0359\n",
      "Epoch 6/100\n",
      "484/484 [==============================] - 6s 12ms/step - loss: 6.0476 - accuracy: 0.0396\n",
      "Epoch 7/100\n",
      "484/484 [==============================] - 6s 12ms/step - loss: 5.9871 - accuracy: 0.0425\n",
      "Epoch 8/100\n",
      "484/484 [==============================] - 6s 12ms/step - loss: 5.8703 - accuracy: 0.0466\n",
      "Epoch 9/100\n",
      "484/484 [==============================] - 6s 12ms/step - loss: 5.7343 - accuracy: 0.0579\n",
      "Epoch 10/100\n",
      "484/484 [==============================] - 6s 12ms/step - loss: 5.6252 - accuracy: 0.0613\n",
      "Epoch 11/100\n",
      "484/484 [==============================] - 6s 12ms/step - loss: 5.5140 - accuracy: 0.0692\n",
      "Epoch 12/100\n",
      "484/484 [==============================] - 6s 12ms/step - loss: 5.4198 - accuracy: 0.0761\n",
      "Epoch 13/100\n",
      "484/484 [==============================] - 6s 12ms/step - loss: 5.3180 - accuracy: 0.0816\n",
      "Epoch 14/100\n",
      "484/484 [==============================] - 6s 12ms/step - loss: 5.2020 - accuracy: 0.0890\n",
      "Epoch 15/100\n",
      "484/484 [==============================] - 6s 12ms/step - loss: 5.0754 - accuracy: 0.0998\n",
      "Epoch 16/100\n",
      "484/484 [==============================] - 6s 12ms/step - loss: 4.9899 - accuracy: 0.1029\n",
      "Epoch 17/100\n",
      "484/484 [==============================] - 6s 12ms/step - loss: 4.8896 - accuracy: 0.1114\n",
      "Epoch 18/100\n",
      "484/484 [==============================] - 6s 12ms/step - loss: 4.8022 - accuracy: 0.1205\n",
      "Epoch 19/100\n",
      "484/484 [==============================] - 6s 12ms/step - loss: 4.6953 - accuracy: 0.1306\n",
      "Epoch 20/100\n",
      "484/484 [==============================] - 6s 12ms/step - loss: 4.5535 - accuracy: 0.1501\n",
      "Epoch 21/100\n",
      "484/484 [==============================] - 6s 12ms/step - loss: 4.4699 - accuracy: 0.1541\n",
      "Epoch 22/100\n",
      "484/484 [==============================] - 6s 12ms/step - loss: 4.3896 - accuracy: 0.1593\n",
      "Epoch 23/100\n",
      "484/484 [==============================] - 6s 12ms/step - loss: 4.2512 - accuracy: 0.1736\n",
      "Epoch 24/100\n",
      "484/484 [==============================] - 6s 12ms/step - loss: 4.1869 - accuracy: 0.1852\n",
      "Epoch 25/100\n",
      "484/484 [==============================] - 6s 12ms/step - loss: 4.0684 - accuracy: 0.2058\n",
      "Epoch 26/100\n",
      "484/484 [==============================] - 6s 12ms/step - loss: 3.9707 - accuracy: 0.2108\n",
      "Epoch 27/100\n",
      "484/484 [==============================] - 6s 12ms/step - loss: 3.8675 - accuracy: 0.2359\n",
      "Epoch 28/100\n",
      "484/484 [==============================] - 6s 12ms/step - loss: 3.7637 - accuracy: 0.2505\n",
      "Epoch 29/100\n",
      "484/484 [==============================] - 6s 12ms/step - loss: 3.6499 - accuracy: 0.2706\n",
      "Epoch 30/100\n",
      "484/484 [==============================] - 6s 12ms/step - loss: 3.5789 - accuracy: 0.2844\n",
      "Epoch 31/100\n",
      "484/484 [==============================] - 6s 12ms/step - loss: 3.5003 - accuracy: 0.3042\n",
      "Epoch 32/100\n",
      "484/484 [==============================] - 6s 12ms/step - loss: 3.3875 - accuracy: 0.3289\n",
      "Epoch 33/100\n",
      "484/484 [==============================] - 6s 12ms/step - loss: 3.3262 - accuracy: 0.3395\n",
      "Epoch 34/100\n",
      "484/484 [==============================] - 6s 12ms/step - loss: 3.2553 - accuracy: 0.3582\n",
      "Epoch 35/100\n",
      "484/484 [==============================] - 6s 12ms/step - loss: 3.1652 - accuracy: 0.3810\n",
      "Epoch 36/100\n",
      "484/484 [==============================] - 6s 12ms/step - loss: 3.0726 - accuracy: 0.3971\n",
      "Epoch 37/100\n",
      "484/484 [==============================] - 6s 12ms/step - loss: 3.0553 - accuracy: 0.4032\n",
      "Epoch 38/100\n",
      "484/484 [==============================] - 6s 12ms/step - loss: 2.9644 - accuracy: 0.4209\n",
      "Epoch 39/100\n",
      "484/484 [==============================] - 6s 12ms/step - loss: 2.8849 - accuracy: 0.4404\n",
      "Epoch 40/100\n",
      "484/484 [==============================] - 6s 12ms/step - loss: 2.8432 - accuracy: 0.4520\n",
      "Epoch 41/100\n",
      "484/484 [==============================] - 6s 12ms/step - loss: 2.7580 - accuracy: 0.4688\n",
      "Epoch 42/100\n",
      "484/484 [==============================] - 6s 12ms/step - loss: 2.7159 - accuracy: 0.4734\n",
      "Epoch 43/100\n",
      "484/484 [==============================] - 6s 12ms/step - loss: 2.6818 - accuracy: 0.4840\n",
      "Epoch 44/100\n",
      "484/484 [==============================] - 6s 12ms/step - loss: 2.5898 - accuracy: 0.5053\n",
      "Epoch 45/100\n",
      "484/484 [==============================] - 6s 12ms/step - loss: 2.5422 - accuracy: 0.5062\n",
      "Epoch 46/100\n",
      "484/484 [==============================] - 6s 12ms/step - loss: 2.4990 - accuracy: 0.5308\n",
      "Epoch 47/100\n",
      "484/484 [==============================] - 6s 12ms/step - loss: 2.4247 - accuracy: 0.5398\n",
      "Epoch 48/100\n",
      "484/484 [==============================] - 6s 12ms/step - loss: 2.4109 - accuracy: 0.5490\n",
      "Epoch 49/100\n",
      "484/484 [==============================] - 6s 12ms/step - loss: 2.3644 - accuracy: 0.5530\n",
      "Epoch 50/100\n",
      "484/484 [==============================] - 6s 12ms/step - loss: 2.3275 - accuracy: 0.5611\n",
      "Epoch 51/100\n",
      "484/484 [==============================] - 6s 12ms/step - loss: 2.2708 - accuracy: 0.5724\n",
      "Epoch 52/100\n",
      "484/484 [==============================] - 6s 12ms/step - loss: 2.2212 - accuracy: 0.5842\n",
      "Epoch 53/100\n",
      "484/484 [==============================] - 6s 12ms/step - loss: 2.1856 - accuracy: 0.5882\n",
      "Epoch 54/100\n",
      "484/484 [==============================] - 6s 12ms/step - loss: 2.1485 - accuracy: 0.6061\n",
      "Epoch 55/100\n",
      "484/484 [==============================] - 6s 12ms/step - loss: 2.1182 - accuracy: 0.6105\n",
      "Epoch 56/100\n",
      "484/484 [==============================] - 6s 12ms/step - loss: 2.0443 - accuracy: 0.6253\n",
      "Epoch 57/100\n",
      "484/484 [==============================] - 6s 12ms/step - loss: 2.0215 - accuracy: 0.6314\n",
      "Epoch 58/100\n",
      "484/484 [==============================] - 6s 12ms/step - loss: 1.9949 - accuracy: 0.6371\n",
      "Epoch 59/100\n",
      "484/484 [==============================] - 6s 12ms/step - loss: 1.9933 - accuracy: 0.6352\n",
      "Epoch 60/100\n",
      "484/484 [==============================] - 6s 12ms/step - loss: 1.9308 - accuracy: 0.6517\n",
      "Epoch 61/100\n",
      "484/484 [==============================] - 6s 12ms/step - loss: 1.9150 - accuracy: 0.6542\n",
      "Epoch 62/100\n",
      "484/484 [==============================] - 6s 12ms/step - loss: 1.8644 - accuracy: 0.6589\n",
      "Epoch 63/100\n",
      "484/484 [==============================] - 6s 12ms/step - loss: 1.8279 - accuracy: 0.6709\n",
      "Epoch 64/100\n",
      "484/484 [==============================] - 6s 12ms/step - loss: 1.8175 - accuracy: 0.6730\n",
      "Epoch 65/100\n",
      "484/484 [==============================] - 6s 12ms/step - loss: 1.7780 - accuracy: 0.6850\n",
      "Epoch 66/100\n",
      "484/484 [==============================] - 6s 12ms/step - loss: 1.7758 - accuracy: 0.6828\n",
      "Epoch 67/100\n",
      "484/484 [==============================] - 6s 12ms/step - loss: 1.7260 - accuracy: 0.6925\n",
      "Epoch 68/100\n",
      "484/484 [==============================] - 6s 12ms/step - loss: 1.6879 - accuracy: 0.7031\n",
      "Epoch 69/100\n",
      "484/484 [==============================] - 6s 12ms/step - loss: 1.7099 - accuracy: 0.6943\n",
      "Epoch 70/100\n",
      "484/484 [==============================] - 6s 12ms/step - loss: 1.6804 - accuracy: 0.7061\n",
      "Epoch 71/100\n",
      "484/484 [==============================] - 6s 12ms/step - loss: 1.6516 - accuracy: 0.7080\n",
      "Epoch 72/100\n",
      "484/484 [==============================] - 6s 12ms/step - loss: 1.6049 - accuracy: 0.7185\n",
      "Epoch 73/100\n",
      "484/484 [==============================] - 6s 12ms/step - loss: 1.5729 - accuracy: 0.7246\n",
      "Epoch 74/100\n",
      "484/484 [==============================] - 6s 12ms/step - loss: 1.5511 - accuracy: 0.7307\n",
      "Epoch 75/100\n",
      "484/484 [==============================] - 6s 12ms/step - loss: 1.5578 - accuracy: 0.7263\n",
      "Epoch 76/100\n",
      "484/484 [==============================] - 6s 12ms/step - loss: 1.5284 - accuracy: 0.7300\n",
      "Epoch 77/100\n",
      "484/484 [==============================] - 6s 12ms/step - loss: 1.5350 - accuracy: 0.7271\n",
      "Epoch 78/100\n",
      "484/484 [==============================] - 6s 12ms/step - loss: 1.4523 - accuracy: 0.7489\n",
      "Epoch 79/100\n",
      "484/484 [==============================] - 6s 12ms/step - loss: 1.4351 - accuracy: 0.7535\n",
      "Epoch 80/100\n",
      "484/484 [==============================] - 6s 12ms/step - loss: 1.4379 - accuracy: 0.7494\n",
      "Epoch 81/100\n",
      "484/484 [==============================] - 6s 12ms/step - loss: 1.4374 - accuracy: 0.7486\n",
      "Epoch 82/100\n",
      "484/484 [==============================] - 6s 12ms/step - loss: 1.4259 - accuracy: 0.7484\n",
      "Epoch 83/100\n",
      "484/484 [==============================] - 6s 12ms/step - loss: 1.4108 - accuracy: 0.7519\n",
      "Epoch 84/100\n",
      "484/484 [==============================] - 6s 12ms/step - loss: 1.4116 - accuracy: 0.7547\n",
      "Epoch 85/100\n",
      "484/484 [==============================] - 6s 12ms/step - loss: 1.3651 - accuracy: 0.7592\n",
      "Epoch 86/100\n",
      "484/484 [==============================] - 6s 12ms/step - loss: 1.3573 - accuracy: 0.7650\n",
      "Epoch 87/100\n",
      "484/484 [==============================] - 6s 12ms/step - loss: 1.3376 - accuracy: 0.7674\n",
      "Epoch 88/100\n",
      "484/484 [==============================] - 6s 12ms/step - loss: 1.3199 - accuracy: 0.7712\n",
      "Epoch 89/100\n",
      "484/484 [==============================] - 6s 12ms/step - loss: 1.2969 - accuracy: 0.7761\n",
      "Epoch 90/100\n",
      "484/484 [==============================] - 6s 12ms/step - loss: 1.3070 - accuracy: 0.7735\n",
      "Epoch 91/100\n",
      "484/484 [==============================] - 6s 12ms/step - loss: 1.3009 - accuracy: 0.7738\n",
      "Epoch 92/100\n",
      "484/484 [==============================] - 6s 13ms/step - loss: 1.2711 - accuracy: 0.7796\n",
      "Epoch 93/100\n",
      "484/484 [==============================] - 6s 12ms/step - loss: 1.2507 - accuracy: 0.7863\n",
      "Epoch 94/100\n",
      "484/484 [==============================] - 6s 12ms/step - loss: 1.2248 - accuracy: 0.7915\n",
      "Epoch 95/100\n",
      "484/484 [==============================] - 6s 12ms/step - loss: 1.2325 - accuracy: 0.7879\n",
      "Epoch 96/100\n",
      "484/484 [==============================] - 6s 12ms/step - loss: 1.2360 - accuracy: 0.7857\n",
      "Epoch 97/100\n",
      "484/484 [==============================] - 6s 12ms/step - loss: 1.2030 - accuracy: 0.7902\n",
      "Epoch 98/100\n",
      "484/484 [==============================] - 6s 12ms/step - loss: 1.2270 - accuracy: 0.7856\n",
      "Epoch 99/100\n",
      "484/484 [==============================] - 6s 12ms/step - loss: 1.1788 - accuracy: 0.7955\n",
      "Epoch 100/100\n",
      "484/484 [==============================] - 6s 12ms/step - loss: 1.1816 - accuracy: 0.7973\n"
     ]
    }
   ],
   "source": [
    " history = model.fit(predictors, label, epochs=100, verbose=1)"
   ]
  },
  {
   "cell_type": "code",
   "execution_count": null,
   "metadata": {
    "colab": {
     "base_uri": "https://localhost:8080/",
     "height": 545
    },
    "executionInfo": {
     "elapsed": 731,
     "status": "ok",
     "timestamp": 1617762997310,
     "user": {
      "displayName": "",
      "photoUrl": "",
      "userId": ""
     },
     "user_tz": 240
    },
    "id": "1fXTEO3GJ282",
    "outputId": "8887241e-06f7-4e10-c0e7-94be3d7739a2"
   },
   "outputs": [
    {
     "data": {
      "image/png": "[encoded data removed]",
      "text/plain": [
       "<Figure size 432x288 with 1 Axes>"
      ]
     },
     "metadata": {
      "needs_background": "light",
      "tags": []
     },
     "output_type": "display_data"
    },
    {
     "data": {
      "image/png": "[encoded data removed]",
      "text/plain": [
       "<Figure size 432x288 with 1 Axes>"
      ]
     },
     "metadata": {
      "needs_background": "light",
      "tags": []
     },
     "output_type": "display_data"
    }
   ],
   "source": [
    "import matplotlib.pyplot as plt\n",
    "acc = history.history['accuracy']\n",
    "loss = history.history['loss']\n",
    "\n",
    "epochs = range(len(acc))\n",
    "\n",
    "plt.plot(epochs, acc, 'b', label='Training accuracy')\n",
    "plt.title('Training accuracy')\n",
    "\n",
    "plt.figure()\n",
    "\n",
    "plt.plot(epochs, loss, 'b', label='Training Loss')\n",
    "plt.title('Training loss')\n",
    "plt.legend()\n",
    "\n",
    "plt.show()"
   ]
  },
  {
   "cell_type": "code",
   "execution_count": null,
   "metadata": {
    "colab": {
     "base_uri": "https://localhost:8080/"
    },
    "executionInfo": {
     "elapsed": 4194,
     "status": "ok",
     "timestamp": 1617763008538,
     "user": {
      "displayName": "",
      "photoUrl": "",
      "userId": ""
     },
     "user_tz": 240
    },
    "id": "6Vc6PHgxa6Hm",
    "outputId": "d61cfc0a-8a46-405f-eb73-ac163806e501"
   },
   "outputs": [
    {
     "name": "stderr",
     "output_type": "stream",
     "text": [
      "/usr/local/lib/python3.7/dist-packages/tensorflow/python/keras/engine/sequential.py:450: UserWarning: `model.predict_classes()` is deprecated and will be removed after 2021-01-01. Please use instead:* `np.argmax(model.predict(x), axis=-1)`,   if your model does multi-class classification   (e.g. if it uses a `softmax` last-layer activation).* `(model.predict(x) > 0.5).astype(\"int32\")`,   if your model does binary classification   (e.g. if it uses a `sigmoid` last-layer activation).\n",
      "  warnings.warn('`model.predict_classes()` is deprecated and '\n"
     ]
    },
    {
     "name": "stdout",
     "output_type": "stream",
     "text": [
      "Help me Obi Wan Kenobi, you're my only hope new had rehearse new skill lies young doth shine eyes shine be bright bright shine be kind behold things must be live seen shine bright bright be thee remain releasing sort none give thee show men true muse thee releasing hence none confounds another loss o'er thee will keep tend bearing good mother report deem'd express'd mother purge torn quite forgot so past thee dyed dyed dyed cherish none dote give arising sort hate days again alone again again again hearted quite moan die down down sun arising light hits car purge takes me alone again again here lies alone\n"
     ]
    }
   ],
   "source": [
    "seed_text = \"Help me Obi Wan Kenobi, you're my only hope\"\n",
    "next_words = 100\n",
    "  \n",
    "for _ in range(next_words):\n",
    "\ttoken_list = tokenizer.texts_to_sequences([seed_text])[0]\n",
    "\ttoken_list = pad_sequences([token_list], maxlen=max_sequence_len-1, padding='pre')\n",
    "\tpredicted = model.predict_classes(token_list, verbose=0)\n",
    "\toutput_word = \"\"\n",
    "\tfor word, index in tokenizer.word_index.items():\n",
    "\t\tif index == predicted:\n",
    "\t\t\toutput_word = word\n",
    "\t\t\tbreak\n",
    "\tseed_text += \" \" + output_word\n",
    "print(seed_text)"
   ]
  }
 ],
 "metadata": {
  "accelerator": "GPU",
  "colab": {
   "name": "Copy of NLP_Week4_Exercise_Shakespeare_Question.ipynb",
   "provenance": [
    {
     "file_id": "https://github.com/lmoroney/dlaicourse/blob/master/TensorFlow%20In%20Practice/Course%203%20-%20NLP/NLP_Week4_Exercise_Shakespeare_Question.ipynb",
     "timestamp": 1617763296406
    }
   ],
   "toc_visible": true
  },
  "kernelspec": {
   "display_name": "Python 3",
   "language": "python",
   "name": "python3"
  },
  "language_info": {
   "codemirror_mode": {
    "name": "ipython",
    "version": 3
   },
   "file_extension": ".py",
   "mimetype": "text/x-python",
   "name": "python",
   "nbconvert_exporter": "python",
   "pygments_lexer": "ipython3",
   "version": "3.8.3"
  }
 },
 "nbformat": 4,
 "nbformat_minor": 1
}
