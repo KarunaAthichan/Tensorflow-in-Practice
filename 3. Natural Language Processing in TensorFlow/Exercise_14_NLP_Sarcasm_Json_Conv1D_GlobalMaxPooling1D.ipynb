{
 "cells": [
  {
   "cell_type": "code",
   "execution_count": null,
   "metadata": {
    "id": "zX4Kg8DUTKWO"
   },
   "outputs": [],
   "source": [
    "#@title Licensed under the Apache License, Version 2.0 (the \"License\");\n",
    "# you may not use this file except in compliance with the License.\n",
    "# You may obtain a copy of the License at\n",
    "#\n",
    "# https://www.apache.org/licenses/LICENSE-2.0\n",
    "#\n",
    "# Unless required by applicable law or agreed to in writing, software\n",
    "# distributed under the License is distributed on an \"AS IS\" BASIS,\n",
    "# WITHOUT WARRANTIES OR CONDITIONS OF ANY KIND, either express or implied.\n",
    "# See the License for the specific language governing permissions and\n",
    "# limitations under the License."
   ]
  },
  {
   "cell_type": "markdown",
   "metadata": {
    "id": "XBg-sVo-uD_Y"
   },
   "source": [
    "<a href=\"https://colab.research.google.com/github/lmoroney/dlaicourse/blob/master/TensorFlow%20In%20Practice/Course%203%20-%20NLP/Course%203%20-%20Week%203%20-%20Lesson%202c.ipynb\" target=\"_parent\"><img src=\"https://colab.research.google.com/assets/colab-badge.svg\" alt=\"Open In Colab\"/></a>"
   ]
  },
  {
   "cell_type": "code",
   "execution_count": null,
   "metadata": {
    "colab": {
     "base_uri": "https://localhost:8080/"
    },
    "executionInfo": {
     "elapsed": 174480,
     "status": "ok",
     "timestamp": 1617587565753,
     "user": {
      "displayName": "",
      "photoUrl": "",
      "userId": ""
     },
     "user_tz": 240
    },
    "id": "jGwXGIXvFhXW",
    "outputId": "2c57c98d-4433-4b09-d77f-15ab1c67de83"
   },
   "outputs": [
    {
     "name": "stdout",
     "output_type": "stream",
     "text": [
      "--2021-04-05 01:49:53--  https://storage.googleapis.com/laurencemoroney-blog.appspot.com/sarcasm.json\n",
      "Resolving storage.googleapis.com (storage.googleapis.com)... 74.125.195.128, 74.125.20.128, 74.125.197.128, ...\n",
      "Connecting to storage.googleapis.com (storage.googleapis.com)|74.125.195.128|:443... connected.\n",
      "HTTP request sent, awaiting response... 200 OK\n",
      "Length: 5643545 (5.4M) [application/json]\n",
      "Saving to: ‘/tmp/sarcasm.json’\n",
      "\n",
      "\r",
      "/tmp/sarcasm.json     0%[                    ]       0  --.-KB/s               \r",
      "/tmp/sarcasm.json   100%[===================>]   5.38M  --.-KB/s    in 0.05s   \n",
      "\n",
      "2021-04-05 01:49:53 (107 MB/s) - ‘/tmp/sarcasm.json’ saved [5643545/5643545]\n",
      "\n",
      "Model: \"sequential\"\n",
      "_________________________________________________________________\n",
      "Layer (type)                 Output Shape              Param #   \n",
      "=================================================================\n",
      "embedding (Embedding)        (None, 120, 16)           16000     \n",
      "_________________________________________________________________\n",
      "conv1d (Conv1D)              (None, 116, 128)          10368     \n",
      "_________________________________________________________________\n",
      "global_max_pooling1d (Global (None, 128)               0         \n",
      "_________________________________________________________________\n",
      "dense (Dense)                (None, 24)                3096      \n",
      "_________________________________________________________________\n",
      "dense_1 (Dense)              (None, 1)                 25        \n",
      "=================================================================\n",
      "Total params: 29,489\n",
      "Trainable params: 29,489\n",
      "Non-trainable params: 0\n",
      "_________________________________________________________________\n",
      "Epoch 1/50\n",
      "625/625 [==============================] - 36s 5ms/step - loss: 0.5630 - accuracy: 0.6847 - val_loss: 0.4071 - val_accuracy: 0.8141\n",
      "Epoch 2/50\n",
      "625/625 [==============================] - 3s 4ms/step - loss: 0.3593 - accuracy: 0.8406 - val_loss: 0.3926 - val_accuracy: 0.8210\n",
      "Epoch 3/50\n",
      "625/625 [==============================] - 3s 4ms/step - loss: 0.3096 - accuracy: 0.8657 - val_loss: 0.3933 - val_accuracy: 0.8225\n",
      "Epoch 4/50\n",
      "625/625 [==============================] - 3s 4ms/step - loss: 0.2678 - accuracy: 0.8892 - val_loss: 0.4107 - val_accuracy: 0.8182\n",
      "Epoch 5/50\n",
      "625/625 [==============================] - 3s 4ms/step - loss: 0.2385 - accuracy: 0.9016 - val_loss: 0.4356 - val_accuracy: 0.8164\n",
      "Epoch 6/50\n",
      "625/625 [==============================] - 3s 4ms/step - loss: 0.2001 - accuracy: 0.9223 - val_loss: 0.4698 - val_accuracy: 0.8135\n",
      "Epoch 7/50\n",
      "625/625 [==============================] - 3s 4ms/step - loss: 0.1695 - accuracy: 0.9367 - val_loss: 0.5260 - val_accuracy: 0.8132\n",
      "Epoch 8/50\n",
      "625/625 [==============================] - 3s 4ms/step - loss: 0.1358 - accuracy: 0.9516 - val_loss: 0.5957 - val_accuracy: 0.8095\n",
      "Epoch 9/50\n",
      "625/625 [==============================] - 3s 4ms/step - loss: 0.1130 - accuracy: 0.9620 - val_loss: 0.6991 - val_accuracy: 0.8034\n",
      "Epoch 10/50\n",
      "625/625 [==============================] - 3s 4ms/step - loss: 0.0949 - accuracy: 0.9669 - val_loss: 0.7304 - val_accuracy: 0.8001\n",
      "Epoch 11/50\n",
      "625/625 [==============================] - 3s 4ms/step - loss: 0.0787 - accuracy: 0.9741 - val_loss: 0.8212 - val_accuracy: 0.7983\n",
      "Epoch 12/50\n",
      "625/625 [==============================] - 3s 4ms/step - loss: 0.0652 - accuracy: 0.9790 - val_loss: 0.8755 - val_accuracy: 0.7988\n",
      "Epoch 13/50\n",
      "625/625 [==============================] - 3s 4ms/step - loss: 0.0585 - accuracy: 0.9805 - val_loss: 1.0136 - val_accuracy: 0.7965\n",
      "Epoch 14/50\n",
      "625/625 [==============================] - 3s 4ms/step - loss: 0.0482 - accuracy: 0.9834 - val_loss: 1.0362 - val_accuracy: 0.8006\n",
      "Epoch 15/50\n",
      "625/625 [==============================] - 3s 4ms/step - loss: 0.0482 - accuracy: 0.9836 - val_loss: 1.1429 - val_accuracy: 0.7946\n",
      "Epoch 16/50\n",
      "625/625 [==============================] - 3s 4ms/step - loss: 0.0434 - accuracy: 0.9841 - val_loss: 1.1513 - val_accuracy: 0.7953\n",
      "Epoch 17/50\n",
      "625/625 [==============================] - 3s 4ms/step - loss: 0.0366 - accuracy: 0.9886 - val_loss: 1.2585 - val_accuracy: 0.7970\n",
      "Epoch 18/50\n",
      "625/625 [==============================] - 3s 4ms/step - loss: 0.0370 - accuracy: 0.9877 - val_loss: 1.3358 - val_accuracy: 0.7897\n",
      "Epoch 19/50\n",
      "625/625 [==============================] - 3s 4ms/step - loss: 0.0353 - accuracy: 0.9867 - val_loss: 1.3953 - val_accuracy: 0.7837\n",
      "Epoch 20/50\n",
      "625/625 [==============================] - 3s 4ms/step - loss: 0.0340 - accuracy: 0.9875 - val_loss: 1.4515 - val_accuracy: 0.7994\n",
      "Epoch 21/50\n",
      "625/625 [==============================] - 3s 4ms/step - loss: 0.0293 - accuracy: 0.9891 - val_loss: 1.4550 - val_accuracy: 0.7906\n",
      "Epoch 22/50\n",
      "625/625 [==============================] - 3s 4ms/step - loss: 0.0335 - accuracy: 0.9874 - val_loss: 1.5697 - val_accuracy: 0.7952\n",
      "Epoch 23/50\n",
      "625/625 [==============================] - 3s 4ms/step - loss: 0.0269 - accuracy: 0.9894 - val_loss: 1.6177 - val_accuracy: 0.7948\n",
      "Epoch 24/50\n",
      "625/625 [==============================] - 3s 4ms/step - loss: 0.0279 - accuracy: 0.9889 - val_loss: 1.7400 - val_accuracy: 0.7867\n",
      "Epoch 25/50\n",
      "625/625 [==============================] - 3s 4ms/step - loss: 0.0278 - accuracy: 0.9892 - val_loss: 1.6893 - val_accuracy: 0.7903\n",
      "Epoch 26/50\n",
      "625/625 [==============================] - 3s 4ms/step - loss: 0.0265 - accuracy: 0.9895 - val_loss: 1.7057 - val_accuracy: 0.7912\n",
      "Epoch 27/50\n",
      "625/625 [==============================] - 3s 4ms/step - loss: 0.0261 - accuracy: 0.9895 - val_loss: 1.6724 - val_accuracy: 0.7901\n",
      "Epoch 28/50\n",
      "625/625 [==============================] - 3s 4ms/step - loss: 0.0267 - accuracy: 0.9897 - val_loss: 1.7581 - val_accuracy: 0.7904\n",
      "Epoch 29/50\n",
      "625/625 [==============================] - 3s 4ms/step - loss: 0.0238 - accuracy: 0.9913 - val_loss: 1.7584 - val_accuracy: 0.7903\n",
      "Epoch 30/50\n",
      "625/625 [==============================] - 3s 4ms/step - loss: 0.0244 - accuracy: 0.9905 - val_loss: 1.8876 - val_accuracy: 0.7913\n",
      "Epoch 31/50\n",
      "625/625 [==============================] - 3s 4ms/step - loss: 0.0267 - accuracy: 0.9898 - val_loss: 1.8552 - val_accuracy: 0.7922\n",
      "Epoch 32/50\n",
      "625/625 [==============================] - 3s 4ms/step - loss: 0.0237 - accuracy: 0.9895 - val_loss: 1.8704 - val_accuracy: 0.7888\n",
      "Epoch 33/50\n",
      "625/625 [==============================] - 3s 4ms/step - loss: 0.0216 - accuracy: 0.9907 - val_loss: 2.1801 - val_accuracy: 0.7904\n",
      "Epoch 34/50\n",
      "625/625 [==============================] - 3s 4ms/step - loss: 0.0260 - accuracy: 0.9890 - val_loss: 1.9531 - val_accuracy: 0.7919\n",
      "Epoch 35/50\n",
      "625/625 [==============================] - 3s 4ms/step - loss: 0.0225 - accuracy: 0.9905 - val_loss: 1.9264 - val_accuracy: 0.7933\n",
      "Epoch 36/50\n",
      "625/625 [==============================] - 3s 4ms/step - loss: 0.0192 - accuracy: 0.9925 - val_loss: 1.9805 - val_accuracy: 0.7894\n",
      "Epoch 37/50\n",
      "625/625 [==============================] - 3s 4ms/step - loss: 0.0214 - accuracy: 0.9909 - val_loss: 2.0813 - val_accuracy: 0.7846\n",
      "Epoch 38/50\n",
      "625/625 [==============================] - 3s 4ms/step - loss: 0.0158 - accuracy: 0.9936 - val_loss: 2.2223 - val_accuracy: 0.7879\n",
      "Epoch 39/50\n",
      "625/625 [==============================] - 3s 4ms/step - loss: 0.0277 - accuracy: 0.9894 - val_loss: 2.0044 - val_accuracy: 0.7894\n",
      "Epoch 40/50\n",
      "625/625 [==============================] - 3s 4ms/step - loss: 0.0217 - accuracy: 0.9912 - val_loss: 2.0541 - val_accuracy: 0.7895\n",
      "Epoch 41/50\n",
      "625/625 [==============================] - 3s 4ms/step - loss: 0.0223 - accuracy: 0.9912 - val_loss: 2.1068 - val_accuracy: 0.7831\n",
      "Epoch 42/50\n",
      "625/625 [==============================] - 3s 4ms/step - loss: 0.0152 - accuracy: 0.9940 - val_loss: 2.3023 - val_accuracy: 0.7897\n",
      "Epoch 43/50\n",
      "625/625 [==============================] - 3s 4ms/step - loss: 0.0178 - accuracy: 0.9925 - val_loss: 2.7326 - val_accuracy: 0.7874\n",
      "Epoch 44/50\n",
      "625/625 [==============================] - 3s 4ms/step - loss: 0.0235 - accuracy: 0.9892 - val_loss: 2.3077 - val_accuracy: 0.7934\n",
      "Epoch 45/50\n",
      "625/625 [==============================] - 3s 4ms/step - loss: 0.0239 - accuracy: 0.9903 - val_loss: 2.2082 - val_accuracy: 0.7857\n",
      "Epoch 46/50\n",
      "625/625 [==============================] - 3s 4ms/step - loss: 0.0187 - accuracy: 0.9923 - val_loss: 2.4834 - val_accuracy: 0.7951\n",
      "Epoch 47/50\n",
      "625/625 [==============================] - 3s 4ms/step - loss: 0.0159 - accuracy: 0.9920 - val_loss: 2.4517 - val_accuracy: 0.7910\n",
      "Epoch 48/50\n",
      "625/625 [==============================] - 3s 4ms/step - loss: 0.0170 - accuracy: 0.9913 - val_loss: 2.6277 - val_accuracy: 0.7931\n",
      "Epoch 49/50\n",
      "625/625 [==============================] - 3s 4ms/step - loss: 0.0240 - accuracy: 0.9907 - val_loss: 2.6190 - val_accuracy: 0.7910\n",
      "Epoch 50/50\n",
      "625/625 [==============================] - 3s 4ms/step - loss: 0.0203 - accuracy: 0.9911 - val_loss: 2.4824 - val_accuracy: 0.7866\n"
     ]
    }
   ],
   "source": [
    "import numpy as np\n",
    "\n",
    "import json\n",
    "import tensorflow as tf\n",
    "\n",
    "from tensorflow.keras.preprocessing.text import Tokenizer\n",
    "from tensorflow.keras.preprocessing.sequence import pad_sequences\n",
    "\n",
    "!wget --no-check-certificate \\\n",
    "    https://storage.googleapis.com/laurencemoroney-blog.appspot.com/sarcasm.json \\\n",
    "    -O /tmp/sarcasm.json\n",
    "\n",
    "vocab_size = 1000\n",
    "embedding_dim = 16\n",
    "max_length = 120\n",
    "trunc_type='post'\n",
    "padding_type='post'\n",
    "oov_tok = \"<OOV>\"\n",
    "training_size = 20000\n",
    "\n",
    "\n",
    "with open(\"/tmp/sarcasm.json\", 'r') as f:\n",
    "    datastore = json.load(f)\n",
    "\n",
    "\n",
    "sentences = []\n",
    "labels = []\n",
    "urls = []\n",
    "for item in datastore:\n",
    "    sentences.append(item['headline'])\n",
    "    labels.append(item['is_sarcastic'])\n",
    "\n",
    "training_sentences = sentences[0:training_size]\n",
    "testing_sentences = sentences[training_size:]\n",
    "training_labels = labels[0:training_size]\n",
    "testing_labels = labels[training_size:]\n",
    "\n",
    "tokenizer = Tokenizer(num_words=vocab_size, oov_token=oov_tok)\n",
    "tokenizer.fit_on_texts(training_sentences)\n",
    "\n",
    "word_index = tokenizer.word_index\n",
    "\n",
    "training_sequences = tokenizer.texts_to_sequences(training_sentences)\n",
    "training_padded = pad_sequences(training_sequences, maxlen=max_length, padding=padding_type, truncating=trunc_type)\n",
    "\n",
    "testing_sequences = tokenizer.texts_to_sequences(testing_sentences)\n",
    "testing_padded = pad_sequences(testing_sequences, maxlen=max_length, padding=padding_type, truncating=trunc_type)\n",
    "\n",
    "model = tf.keras.Sequential([\n",
    "    tf.keras.layers.Embedding(vocab_size, embedding_dim, input_length=max_length),\n",
    "    tf.keras.layers.Conv1D(128, 5, activation='relu'),\n",
    "    tf.keras.layers.GlobalMaxPooling1D(),\n",
    "    tf.keras.layers.Dense(24, activation='relu'),\n",
    "    tf.keras.layers.Dense(1, activation='sigmoid')\n",
    "])\n",
    "model.compile(loss='binary_crossentropy',optimizer='adam',metrics=['accuracy'])\n",
    "model.summary()\n",
    "\n",
    "num_epochs = 50\n",
    "\n",
    "training_padded = np.array(training_padded)\n",
    "training_labels = np.array(training_labels)\n",
    "testing_padded = np.array(testing_padded)\n",
    "testing_labels = np.array(testing_labels)\n",
    "\n",
    "history = model.fit(training_padded, training_labels, epochs=num_epochs, validation_data=(testing_padded, testing_labels), verbose=1)\n"
   ]
  },
  {
   "cell_type": "code",
   "execution_count": null,
   "metadata": {
    "colab": {
     "base_uri": "https://localhost:8080/",
     "height": 542
    },
    "executionInfo": {
     "elapsed": 794,
     "status": "ok",
     "timestamp": 1617587605851,
     "user": {
      "displayName": "",
      "photoUrl": "",
      "userId": ""
     },
     "user_tz": 240
    },
    "id": "g9DC6dmLF8DC",
    "outputId": "116e7cae-0775-466c-d77d-d75077d909a4"
   },
   "outputs": [
    {
     "data": {
      "image/png": "[encoded data removed]",
      "text/plain": [
       "<Figure size 432x288 with 1 Axes>"
      ]
     },
     "metadata": {
      "needs_background": "light",
      "tags": []
     },
     "output_type": "display_data"
    },
    {
     "data": {
      "image/png": "[encoded data removed]",
      "text/plain": [
       "<Figure size 432x288 with 1 Axes>"
      ]
     },
     "metadata": {
      "needs_background": "light",
      "tags": []
     },
     "output_type": "display_data"
    }
   ],
   "source": [
    "import matplotlib.pyplot as plt\n",
    "\n",
    "\n",
    "def plot_graphs(history, string):\n",
    "  plt.plot(history.history[string])\n",
    "  plt.plot(history.history['val_'+string])\n",
    "  plt.xlabel(\"Epochs\")\n",
    "  plt.ylabel(string)\n",
    "  plt.legend([string, 'val_'+string])\n",
    "  plt.show()\n",
    "\n",
    "plot_graphs(history, 'accuracy')\n",
    "plot_graphs(history, 'loss')"
   ]
  },
  {
   "cell_type": "code",
   "execution_count": null,
   "metadata": {
    "id": "7ZEZIUppGhdi"
   },
   "outputs": [],
   "source": [
    "model.save(\"test.h5\")"
   ]
  }
 ],
 "metadata": {
  "accelerator": "GPU",
  "colab": {
   "collapsed_sections": [],
   "name": "Copy of Course 3 - Week 3 - Lesson 2c.ipynb",
   "provenance": [
    {
     "file_id": "https://github.com/lmoroney/dlaicourse/blob/master/TensorFlow%20In%20Practice/Course%203%20-%20NLP/Course%203%20-%20Week%203%20-%20Lesson%202c.ipynb",
     "timestamp": 1617587620447
    }
   ],
   "toc_visible": true
  },
  "kernelspec": {
   "display_name": "Python 3",
   "language": "python",
   "name": "python3"
  },
  "language_info": {
   "codemirror_mode": {
    "name": "ipython",
    "version": 3
   },
   "file_extension": ".py",
   "mimetype": "text/x-python",
   "name": "python",
   "nbconvert_exporter": "python",
   "pygments_lexer": "ipython3",
   "version": "3.8.3"
  }
 },
 "nbformat": 4,
 "nbformat_minor": 1
}
