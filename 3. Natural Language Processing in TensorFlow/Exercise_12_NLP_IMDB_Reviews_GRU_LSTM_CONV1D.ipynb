{
 "cells": [
  {
   "cell_type": "code",
   "execution_count": null,
   "metadata": {
    "id": "zX4Kg8DUTKWO"
   },
   "outputs": [],
   "source": [
    "#@title Licensed under the Apache License, Version 2.0 (the \"License\");\n",
    "# you may not use this file except in compliance with the License.\n",
    "# You may obtain a copy of the License at\n",
    "#\n",
    "# https://www.apache.org/licenses/LICENSE-2.0\n",
    "#\n",
    "# Unless required by applicable law or agreed to in writing, software\n",
    "# distributed under the License is distributed on an \"AS IS\" BASIS,\n",
    "# WITHOUT WARRANTIES OR CONDITIONS OF ANY KIND, either express or implied.\n",
    "# See the License for the specific language governing permissions and\n",
    "# limitations under the License."
   ]
  },
  {
   "cell_type": "code",
   "execution_count": null,
   "metadata": {
    "colab": {
     "base_uri": "https://localhost:8080/"
    },
    "executionInfo": {
     "elapsed": 2106,
     "status": "ok",
     "timestamp": 1617572967848,
     "user": {
      "displayName": "",
      "photoUrl": "",
      "userId": ""
     },
     "user_tz": 240
    },
    "id": "P-AhVYeBWgQ3",
    "outputId": "4d649374-dcdf-41dc-db92-5f3e4c3e2b98"
   },
   "outputs": [
    {
     "name": "stdout",
     "output_type": "stream",
     "text": [
      "2.4.1\n"
     ]
    }
   ],
   "source": [
    "import tensorflow as tf\n",
    "print(tf.__version__)\n",
    "\n",
    "# !pip install -q tensorflow-datasets"
   ]
  },
  {
   "cell_type": "code",
   "execution_count": null,
   "metadata": {
    "id": "_IoM4VFxWpMR"
   },
   "outputs": [],
   "source": [
    "import tensorflow_datasets as tfds\n",
    "imdb, info = tfds.load(\"imdb_reviews\", with_info=True, as_supervised=True)\n"
   ]
  },
  {
   "cell_type": "code",
   "execution_count": null,
   "metadata": {
    "id": "wHQ2Ko0zl7M4"
   },
   "outputs": [],
   "source": [
    "import numpy as np\n",
    "\n",
    "train_data, test_data = imdb['train'], imdb['test']\n",
    "\n",
    "training_sentences = []\n",
    "training_labels = []\n",
    "\n",
    "testing_sentences = []\n",
    "testing_labels = []\n",
    "\n",
    "# str(s.tonumpy()) is needed in Python3 instead of just s.numpy()\n",
    "for s,l in train_data:\n",
    "  training_sentences.append(str(s.numpy()))\n",
    "  training_labels.append(l.numpy())\n",
    "  \n",
    "for s,l in test_data:\n",
    "  testing_sentences.append(str(s.numpy()))\n",
    "  testing_labels.append(l.numpy())\n",
    "  \n",
    "training_labels_final = np.array(training_labels)\n",
    "testing_labels_final = np.array(testing_labels)\n"
   ]
  },
  {
   "cell_type": "code",
   "execution_count": null,
   "metadata": {
    "id": "7n15yyMdmoH1"
   },
   "outputs": [],
   "source": [
    "vocab_size = 10000\n",
    "embedding_dim = 16\n",
    "max_length = 120\n",
    "trunc_type='post'\n",
    "oov_tok = \"<OOV>\"\n",
    "\n",
    "\n",
    "from tensorflow.keras.preprocessing.text import Tokenizer\n",
    "from tensorflow.keras.preprocessing.sequence import pad_sequences\n",
    "\n",
    "tokenizer = Tokenizer(num_words = vocab_size, oov_token=oov_tok)\n",
    "tokenizer.fit_on_texts(training_sentences)\n",
    "word_index = tokenizer.word_index\n",
    "sequences = tokenizer.texts_to_sequences(training_sentences)\n",
    "padded = pad_sequences(sequences,maxlen=max_length, truncating=trunc_type)\n",
    "\n",
    "testing_sequences = tokenizer.texts_to_sequences(testing_sentences)\n",
    "testing_padded = pad_sequences(testing_sequences,maxlen=max_length)\n"
   ]
  },
  {
   "cell_type": "code",
   "execution_count": null,
   "metadata": {
    "colab": {
     "base_uri": "https://localhost:8080/"
    },
    "executionInfo": {
     "elapsed": 291,
     "status": "ok",
     "timestamp": 1617573397681,
     "user": {
      "displayName": "",
      "photoUrl": "",
      "userId": ""
     },
     "user_tz": 240
    },
    "id": "9axf0uIXVMhO",
    "outputId": "717dc054-8a84-402c-d96c-649f74053bce"
   },
   "outputs": [
    {
     "name": "stdout",
     "output_type": "stream",
     "text": [
      "? ? ? ? ? ? ? b'i have been known to fall asleep during films but this is usually due to a combination of things including really tired being warm and comfortable on the <OOV> and having just eaten a lot however on this occasion i fell asleep because the film was rubbish the plot development was constant constantly slow and boring things seemed to happen but with no explanation of what was causing them or why i admit i may have missed part of the film but i watched the majority of it and everything just seemed to happen of its own <OOV> without any real concern for anything else i cant recommend this film at all '\n",
      "b'I have been known to fall asleep during films, but this is usually due to a combination of things including, really tired, being warm and comfortable on the sette and having just eaten a lot. However on this occasion I fell asleep because the film was rubbish. The plot development was constant. Constantly slow and boring. Things seemed to happen, but with no explanation of what was causing them or why. I admit, I may have missed part of the film, but i watched the majority of it and everything just seemed to happen of its own accord without any real concern for anything else. I cant recommend this film at all.'\n"
     ]
    }
   ],
   "source": [
    "reverse_word_index = dict([(value, key) for (key, value) in word_index.items()])\n",
    "\n",
    "def decode_review(text):\n",
    "    return ' '.join([reverse_word_index.get(i, '?') for i in text])\n",
    "\n",
    "print(decode_review(padded[1]))\n",
    "print(training_sentences[1])"
   ]
  },
  {
   "cell_type": "code",
   "execution_count": null,
   "metadata": {
    "colab": {
     "base_uri": "https://localhost:8080/"
    },
    "executionInfo": {
     "elapsed": 760,
     "status": "ok",
     "timestamp": 1617573407164,
     "user": {
      "displayName": "",
      "photoUrl": "",
      "userId": ""
     },
     "user_tz": 240
    },
    "id": "5NEpdhb8AxID",
    "outputId": "e74b0141-193e-4fb8-fac1-85e2380d2d49"
   },
   "outputs": [
    {
     "name": "stdout",
     "output_type": "stream",
     "text": [
      "Model: \"sequential\"\n",
      "_________________________________________________________________\n",
      "Layer (type)                 Output Shape              Param #   \n",
      "=================================================================\n",
      "embedding (Embedding)        (None, 120, 16)           160000    \n",
      "_________________________________________________________________\n",
      "bidirectional (Bidirectional (None, 64)                9600      \n",
      "_________________________________________________________________\n",
      "dense (Dense)                (None, 6)                 390       \n",
      "_________________________________________________________________\n",
      "dense_1 (Dense)              (None, 1)                 7         \n",
      "=================================================================\n",
      "Total params: 169,997\n",
      "Trainable params: 169,997\n",
      "Non-trainable params: 0\n",
      "_________________________________________________________________\n"
     ]
    }
   ],
   "source": [
    "model = tf.keras.Sequential([\n",
    "    tf.keras.layers.Embedding(vocab_size, embedding_dim, input_length=max_length),\n",
    "    tf.keras.layers.Bidirectional(tf.keras.layers.GRU(32)),\n",
    "    tf.keras.layers.Dense(6, activation='relu'),\n",
    "    tf.keras.layers.Dense(1, activation='sigmoid')\n",
    "])\n",
    "model.compile(loss='binary_crossentropy',optimizer='adam',metrics=['accuracy'])\n",
    "model.summary()\n"
   ]
  },
  {
   "cell_type": "code",
   "execution_count": null,
   "metadata": {
    "colab": {
     "base_uri": "https://localhost:8080/"
    },
    "executionInfo": {
     "elapsed": 699351,
     "status": "ok",
     "timestamp": 1617574110390,
     "user": {
      "displayName": "",
      "photoUrl": "",
      "userId": ""
     },
     "user_tz": 240
    },
    "id": "V5LLrXC-uNX6",
    "outputId": "b506e0f5-f245-400b-c5b4-172e38c40e49"
   },
   "outputs": [
    {
     "name": "stdout",
     "output_type": "stream",
     "text": [
      "Epoch 1/50\n",
      "782/782 [==============================] - 49s 19ms/step - loss: 0.5998 - accuracy: 0.6284 - val_loss: 0.3525 - val_accuracy: 0.8475\n",
      "Epoch 2/50\n",
      "782/782 [==============================] - 13s 17ms/step - loss: 0.2952 - accuracy: 0.8802 - val_loss: 0.3526 - val_accuracy: 0.8458\n",
      "Epoch 3/50\n",
      "782/782 [==============================] - 13s 17ms/step - loss: 0.2227 - accuracy: 0.9172 - val_loss: 0.3860 - val_accuracy: 0.8411\n",
      "Epoch 4/50\n",
      "782/782 [==============================] - 13s 17ms/step - loss: 0.1794 - accuracy: 0.9342 - val_loss: 0.4718 - val_accuracy: 0.8298\n",
      "Epoch 5/50\n",
      "782/782 [==============================] - 13s 17ms/step - loss: 0.1334 - accuracy: 0.9555 - val_loss: 0.4453 - val_accuracy: 0.8281\n",
      "Epoch 6/50\n",
      "782/782 [==============================] - 13s 17ms/step - loss: 0.0951 - accuracy: 0.9690 - val_loss: 0.5039 - val_accuracy: 0.8201\n",
      "Epoch 7/50\n",
      "782/782 [==============================] - 13s 17ms/step - loss: 0.0662 - accuracy: 0.9786 - val_loss: 0.6250 - val_accuracy: 0.8175\n",
      "Epoch 8/50\n",
      "782/782 [==============================] - 13s 17ms/step - loss: 0.0489 - accuracy: 0.9846 - val_loss: 0.7537 - val_accuracy: 0.8148\n",
      "Epoch 9/50\n",
      "782/782 [==============================] - 13s 17ms/step - loss: 0.0329 - accuracy: 0.9894 - val_loss: 0.7894 - val_accuracy: 0.8059\n",
      "Epoch 10/50\n",
      "782/782 [==============================] - 13s 17ms/step - loss: 0.0154 - accuracy: 0.9959 - val_loss: 0.9558 - val_accuracy: 0.8152\n",
      "Epoch 11/50\n",
      "782/782 [==============================] - 13s 17ms/step - loss: 0.0198 - accuracy: 0.9933 - val_loss: 0.8963 - val_accuracy: 0.8099\n",
      "Epoch 12/50\n",
      "782/782 [==============================] - 13s 17ms/step - loss: 0.0165 - accuracy: 0.9941 - val_loss: 1.0292 - val_accuracy: 0.8180\n",
      "Epoch 13/50\n",
      "782/782 [==============================] - 13s 17ms/step - loss: 0.0129 - accuracy: 0.9957 - val_loss: 1.0644 - val_accuracy: 0.8173\n",
      "Epoch 14/50\n",
      "782/782 [==============================] - 13s 17ms/step - loss: 0.0109 - accuracy: 0.9962 - val_loss: 1.0546 - val_accuracy: 0.8196\n",
      "Epoch 15/50\n",
      "782/782 [==============================] - 13s 17ms/step - loss: 0.0091 - accuracy: 0.9974 - val_loss: 1.1871 - val_accuracy: 0.8179\n",
      "Epoch 16/50\n",
      "782/782 [==============================] - 13s 17ms/step - loss: 0.0077 - accuracy: 0.9975 - val_loss: 1.1775 - val_accuracy: 0.8107\n",
      "Epoch 17/50\n",
      "782/782 [==============================] - 13s 17ms/step - loss: 0.0064 - accuracy: 0.9978 - val_loss: 1.5642 - val_accuracy: 0.8008\n",
      "Epoch 18/50\n",
      "782/782 [==============================] - 13s 17ms/step - loss: 0.0138 - accuracy: 0.9946 - val_loss: 1.2262 - val_accuracy: 0.8036\n",
      "Epoch 19/50\n",
      "782/782 [==============================] - 13s 17ms/step - loss: 0.0077 - accuracy: 0.9975 - val_loss: 1.3225 - val_accuracy: 0.8103\n",
      "Epoch 20/50\n",
      "782/782 [==============================] - 13s 17ms/step - loss: 0.0049 - accuracy: 0.9983 - val_loss: 1.2983 - val_accuracy: 0.8144\n",
      "Epoch 21/50\n",
      "782/782 [==============================] - 13s 17ms/step - loss: 0.0051 - accuracy: 0.9982 - val_loss: 1.1809 - val_accuracy: 0.8113\n",
      "Epoch 22/50\n",
      "782/782 [==============================] - 13s 17ms/step - loss: 0.0046 - accuracy: 0.9984 - val_loss: 1.2873 - val_accuracy: 0.8106\n",
      "Epoch 23/50\n",
      "782/782 [==============================] - 13s 17ms/step - loss: 0.0099 - accuracy: 0.9968 - val_loss: 1.2404 - val_accuracy: 0.8140\n",
      "Epoch 24/50\n",
      "782/782 [==============================] - 13s 17ms/step - loss: 0.0020 - accuracy: 0.9995 - val_loss: 1.2936 - val_accuracy: 0.8183\n",
      "Epoch 25/50\n",
      "782/782 [==============================] - 13s 17ms/step - loss: 0.0017 - accuracy: 0.9995 - val_loss: 1.4216 - val_accuracy: 0.8141\n",
      "Epoch 26/50\n",
      "782/782 [==============================] - 13s 17ms/step - loss: 1.0718e-04 - accuracy: 1.0000 - val_loss: 1.4878 - val_accuracy: 0.8167\n",
      "Epoch 27/50\n",
      "782/782 [==============================] - 13s 17ms/step - loss: 3.7610e-05 - accuracy: 1.0000 - val_loss: 1.5541 - val_accuracy: 0.8163\n",
      "Epoch 28/50\n",
      "782/782 [==============================] - 13s 17ms/step - loss: 2.4767e-05 - accuracy: 1.0000 - val_loss: 1.6146 - val_accuracy: 0.8162\n",
      "Epoch 29/50\n",
      "782/782 [==============================] - 13s 17ms/step - loss: 1.7297e-05 - accuracy: 1.0000 - val_loss: 1.6783 - val_accuracy: 0.8175\n",
      "Epoch 30/50\n",
      "782/782 [==============================] - 13s 17ms/step - loss: 1.0903e-05 - accuracy: 1.0000 - val_loss: 1.7393 - val_accuracy: 0.8169\n",
      "Epoch 31/50\n",
      "782/782 [==============================] - 13s 17ms/step - loss: 7.2958e-06 - accuracy: 1.0000 - val_loss: 1.8030 - val_accuracy: 0.8173\n",
      "Epoch 32/50\n",
      "782/782 [==============================] - 13s 17ms/step - loss: 4.9569e-06 - accuracy: 1.0000 - val_loss: 1.8650 - val_accuracy: 0.8172\n",
      "Epoch 33/50\n",
      "782/782 [==============================] - 13s 17ms/step - loss: 3.4671e-06 - accuracy: 1.0000 - val_loss: 1.9338 - val_accuracy: 0.8166\n",
      "Epoch 34/50\n",
      "782/782 [==============================] - 13s 17ms/step - loss: 2.2708e-06 - accuracy: 1.0000 - val_loss: 1.9970 - val_accuracy: 0.8165\n",
      "Epoch 35/50\n",
      "782/782 [==============================] - 13s 17ms/step - loss: 1.4555e-06 - accuracy: 1.0000 - val_loss: 2.0651 - val_accuracy: 0.8170\n",
      "Epoch 36/50\n",
      "782/782 [==============================] - 13s 17ms/step - loss: 9.6389e-07 - accuracy: 1.0000 - val_loss: 2.1340 - val_accuracy: 0.8169\n",
      "Epoch 37/50\n",
      "782/782 [==============================] - 13s 17ms/step - loss: 6.1243e-07 - accuracy: 1.0000 - val_loss: 2.2002 - val_accuracy: 0.8164\n",
      "Epoch 38/50\n",
      "782/782 [==============================] - 13s 17ms/step - loss: 4.1896e-07 - accuracy: 1.0000 - val_loss: 2.2625 - val_accuracy: 0.8166\n",
      "Epoch 39/50\n",
      "782/782 [==============================] - 13s 17ms/step - loss: 2.7119e-07 - accuracy: 1.0000 - val_loss: 2.3334 - val_accuracy: 0.8162\n",
      "Epoch 40/50\n",
      "782/782 [==============================] - 13s 17ms/step - loss: 1.7809e-07 - accuracy: 1.0000 - val_loss: 2.4024 - val_accuracy: 0.8162\n",
      "Epoch 41/50\n",
      "782/782 [==============================] - 13s 17ms/step - loss: 1.2033e-07 - accuracy: 1.0000 - val_loss: 2.4662 - val_accuracy: 0.8162\n",
      "Epoch 42/50\n",
      "782/782 [==============================] - 13s 17ms/step - loss: 7.7555e-08 - accuracy: 1.0000 - val_loss: 2.5354 - val_accuracy: 0.8162\n",
      "Epoch 43/50\n",
      "782/782 [==============================] - 13s 17ms/step - loss: 5.5257e-08 - accuracy: 1.0000 - val_loss: 2.6053 - val_accuracy: 0.8162\n",
      "Epoch 44/50\n",
      "782/782 [==============================] - 13s 17ms/step - loss: 3.5772e-08 - accuracy: 1.0000 - val_loss: 2.6663 - val_accuracy: 0.8160\n",
      "Epoch 45/50\n",
      "782/782 [==============================] - 13s 17ms/step - loss: 2.4523e-08 - accuracy: 1.0000 - val_loss: 2.7246 - val_accuracy: 0.8164\n",
      "Epoch 46/50\n",
      "782/782 [==============================] - 13s 17ms/step - loss: 1.7317e-08 - accuracy: 1.0000 - val_loss: 2.7901 - val_accuracy: 0.8165\n",
      "Epoch 47/50\n",
      "782/782 [==============================] - 13s 17ms/step - loss: 1.1028e-08 - accuracy: 1.0000 - val_loss: 2.8445 - val_accuracy: 0.8164\n",
      "Epoch 48/50\n",
      "782/782 [==============================] - 14s 17ms/step - loss: 8.1162e-09 - accuracy: 1.0000 - val_loss: 2.8952 - val_accuracy: 0.8163\n",
      "Epoch 49/50\n",
      "782/782 [==============================] - 13s 17ms/step - loss: 5.7262e-09 - accuracy: 1.0000 - val_loss: 2.9517 - val_accuracy: 0.8167\n",
      "Epoch 50/50\n",
      "782/782 [==============================] - 13s 17ms/step - loss: 4.1625e-09 - accuracy: 1.0000 - val_loss: 2.9939 - val_accuracy: 0.8165\n"
     ]
    }
   ],
   "source": [
    "num_epochs = 50\n",
    "history = model.fit(padded, training_labels_final, epochs=num_epochs, validation_data=(testing_padded, testing_labels_final))"
   ]
  },
  {
   "cell_type": "code",
   "execution_count": null,
   "metadata": {
    "colab": {
     "base_uri": "https://localhost:8080/",
     "height": 541
    },
    "executionInfo": {
     "elapsed": 573,
     "status": "ok",
     "timestamp": 1617574118026,
     "user": {
      "displayName": "",
      "photoUrl": "",
      "userId": ""
     },
     "user_tz": 240
    },
    "id": "nHGYuU4jPYaj",
    "outputId": "b5eb3241-9da0-4cd3-9128-69af8e8f5a1b"
   },
   "outputs": [
    {
     "data": {
      "image/png": "[encoded data removed]",
      "text/plain": [
       "<Figure size 432x288 with 1 Axes>"
      ]
     },
     "metadata": {
      "needs_background": "light",
      "tags": []
     },
     "output_type": "display_data"
    },
    {
     "data": {
      "image/png": "[encoded data removed]",
      "text/plain": [
       "<Figure size 432x288 with 1 Axes>"
      ]
     },
     "metadata": {
      "needs_background": "light",
      "tags": []
     },
     "output_type": "display_data"
    }
   ],
   "source": [
    "import matplotlib.pyplot as plt\n",
    "\n",
    "\n",
    "def plot_graphs(history, string):\n",
    "  plt.plot(history.history[string])\n",
    "  plt.plot(history.history['val_'+string])\n",
    "  plt.xlabel(\"Epochs\")\n",
    "  plt.ylabel(string)\n",
    "  plt.legend([string, 'val_'+string])\n",
    "  plt.show()\n",
    "\n",
    "plot_graphs(history, 'accuracy')\n",
    "plot_graphs(history, 'loss')"
   ]
  },
  {
   "cell_type": "code",
   "execution_count": null,
   "metadata": {
    "colab": {
     "base_uri": "https://localhost:8080/"
    },
    "executionInfo": {
     "elapsed": 742,
     "status": "ok",
     "timestamp": 1617574233392,
     "user": {
      "displayName": "",
      "photoUrl": "",
      "userId": ""
     },
     "user_tz": 240
    },
    "id": "wSualgGPPK0S",
    "outputId": "646cd7d9-ff7e-49a8-8dfd-41f3b3332011"
   },
   "outputs": [
    {
     "name": "stdout",
     "output_type": "stream",
     "text": [
      "Model: \"sequential_1\"\n",
      "_________________________________________________________________\n",
      "Layer (type)                 Output Shape              Param #   \n",
      "=================================================================\n",
      "embedding_1 (Embedding)      (None, 120, 16)           160000    \n",
      "_________________________________________________________________\n",
      "bidirectional_1 (Bidirection (None, 64)                12544     \n",
      "_________________________________________________________________\n",
      "dense_2 (Dense)              (None, 6)                 390       \n",
      "_________________________________________________________________\n",
      "dense_3 (Dense)              (None, 1)                 7         \n",
      "=================================================================\n",
      "Total params: 172,941\n",
      "Trainable params: 172,941\n",
      "Non-trainable params: 0\n",
      "_________________________________________________________________\n"
     ]
    }
   ],
   "source": [
    "# Model Definition with LSTM\n",
    "model1 = tf.keras.Sequential([\n",
    "    tf.keras.layers.Embedding(vocab_size, embedding_dim, input_length=max_length),\n",
    "    tf.keras.layers.Bidirectional(tf.keras.layers.LSTM(32)),\n",
    "    tf.keras.layers.Dense(6, activation='relu'),\n",
    "    tf.keras.layers.Dense(1, activation='sigmoid')\n",
    "])\n",
    "model1.compile(loss='binary_crossentropy',optimizer='adam',metrics=['accuracy'])\n",
    "model1.summary()\n"
   ]
  },
  {
   "cell_type": "code",
   "execution_count": null,
   "metadata": {
    "colab": {
     "base_uri": "https://localhost:8080/"
    },
    "executionInfo": {
     "elapsed": 687815,
     "status": "ok",
     "timestamp": 1617574929230,
     "user": {
      "displayName": "",
      "photoUrl": "",
      "userId": ""
     },
     "user_tz": 240
    },
    "id": "sJT88-cT7mnF",
    "outputId": "f8f115c9-4a29-4e11-d6a9-08bb3a8020cc"
   },
   "outputs": [
    {
     "name": "stdout",
     "output_type": "stream",
     "text": [
      "Epoch 1/50\n",
      "782/782 [==============================] - 17s 18ms/step - loss: 0.5561 - accuracy: 0.6805 - val_loss: 0.3432 - val_accuracy: 0.8502\n",
      "Epoch 2/50\n",
      "782/782 [==============================] - 13s 17ms/step - loss: 0.2892 - accuracy: 0.8879 - val_loss: 0.3794 - val_accuracy: 0.8284\n",
      "Epoch 3/50\n",
      "782/782 [==============================] - 14s 17ms/step - loss: 0.2286 - accuracy: 0.9152 - val_loss: 0.4564 - val_accuracy: 0.8205\n",
      "Epoch 4/50\n",
      "782/782 [==============================] - 14s 17ms/step - loss: 0.1952 - accuracy: 0.9289 - val_loss: 0.3857 - val_accuracy: 0.8346\n",
      "Epoch 5/50\n",
      "782/782 [==============================] - 14s 17ms/step - loss: 0.1448 - accuracy: 0.9515 - val_loss: 0.5532 - val_accuracy: 0.8210\n",
      "Epoch 6/50\n",
      "782/782 [==============================] - 14s 17ms/step - loss: 0.1137 - accuracy: 0.9605 - val_loss: 0.5239 - val_accuracy: 0.8263\n",
      "Epoch 7/50\n",
      "782/782 [==============================] - 14s 17ms/step - loss: 0.0820 - accuracy: 0.9723 - val_loss: 0.5235 - val_accuracy: 0.8171\n",
      "Epoch 8/50\n",
      "782/782 [==============================] - 14s 17ms/step - loss: 0.0646 - accuracy: 0.9791 - val_loss: 0.6945 - val_accuracy: 0.8184\n",
      "Epoch 9/50\n",
      "782/782 [==============================] - 14s 17ms/step - loss: 0.0464 - accuracy: 0.9851 - val_loss: 0.6468 - val_accuracy: 0.8175\n",
      "Epoch 10/50\n",
      "782/782 [==============================] - 14s 18ms/step - loss: 0.0351 - accuracy: 0.9892 - val_loss: 0.7956 - val_accuracy: 0.8130\n",
      "Epoch 11/50\n",
      "782/782 [==============================] - 14s 18ms/step - loss: 0.0348 - accuracy: 0.9892 - val_loss: 0.9037 - val_accuracy: 0.8132\n",
      "Epoch 12/50\n",
      "782/782 [==============================] - 14s 17ms/step - loss: 0.0250 - accuracy: 0.9923 - val_loss: 0.9206 - val_accuracy: 0.8158\n",
      "Epoch 13/50\n",
      "782/782 [==============================] - 14s 17ms/step - loss: 0.0187 - accuracy: 0.9944 - val_loss: 1.0185 - val_accuracy: 0.8151\n",
      "Epoch 14/50\n",
      "782/782 [==============================] - 14s 17ms/step - loss: 0.0153 - accuracy: 0.9960 - val_loss: 1.1008 - val_accuracy: 0.8144\n",
      "Epoch 15/50\n",
      "782/782 [==============================] - 14s 17ms/step - loss: 0.0123 - accuracy: 0.9957 - val_loss: 0.9482 - val_accuracy: 0.8160\n",
      "Epoch 16/50\n",
      "782/782 [==============================] - 14s 17ms/step - loss: 0.0145 - accuracy: 0.9950 - val_loss: 0.9806 - val_accuracy: 0.8030\n",
      "Epoch 17/50\n",
      "782/782 [==============================] - 14s 17ms/step - loss: 0.0150 - accuracy: 0.9949 - val_loss: 1.0963 - val_accuracy: 0.8054\n",
      "Epoch 18/50\n",
      "782/782 [==============================] - 14s 17ms/step - loss: 0.0154 - accuracy: 0.9952 - val_loss: 1.0470 - val_accuracy: 0.8139\n",
      "Epoch 19/50\n",
      "782/782 [==============================] - 13s 17ms/step - loss: 0.0099 - accuracy: 0.9966 - val_loss: 1.1064 - val_accuracy: 0.8169\n",
      "Epoch 20/50\n",
      "782/782 [==============================] - 14s 17ms/step - loss: 0.0098 - accuracy: 0.9971 - val_loss: 1.1067 - val_accuracy: 0.8068\n",
      "Epoch 21/50\n",
      "782/782 [==============================] - 14s 17ms/step - loss: 0.0118 - accuracy: 0.9961 - val_loss: 1.0783 - val_accuracy: 0.8142\n",
      "Epoch 22/50\n",
      "782/782 [==============================] - 14s 17ms/step - loss: 0.0099 - accuracy: 0.9969 - val_loss: 1.1145 - val_accuracy: 0.8104\n",
      "Epoch 23/50\n",
      "782/782 [==============================] - 14s 17ms/step - loss: 0.0041 - accuracy: 0.9991 - val_loss: 1.2034 - val_accuracy: 0.8086\n",
      "Epoch 24/50\n",
      "782/782 [==============================] - 14s 17ms/step - loss: 0.0112 - accuracy: 0.9970 - val_loss: 1.3252 - val_accuracy: 0.8124\n",
      "Epoch 25/50\n",
      "782/782 [==============================] - 14s 17ms/step - loss: 0.0087 - accuracy: 0.9974 - val_loss: 1.1051 - val_accuracy: 0.8055\n",
      "Epoch 26/50\n",
      "782/782 [==============================] - 14s 17ms/step - loss: 0.0163 - accuracy: 0.9945 - val_loss: 1.1484 - val_accuracy: 0.8172\n",
      "Epoch 27/50\n",
      "782/782 [==============================] - 14s 18ms/step - loss: 0.0024 - accuracy: 0.9993 - val_loss: 1.3315 - val_accuracy: 0.8139\n",
      "Epoch 28/50\n",
      "782/782 [==============================] - 14s 17ms/step - loss: 0.0052 - accuracy: 0.9985 - val_loss: 1.2419 - val_accuracy: 0.8161\n",
      "Epoch 29/50\n",
      "782/782 [==============================] - 14s 17ms/step - loss: 0.0059 - accuracy: 0.9984 - val_loss: 1.2418 - val_accuracy: 0.8165\n",
      "Epoch 30/50\n",
      "782/782 [==============================] - 14s 17ms/step - loss: 0.0028 - accuracy: 0.9993 - val_loss: 1.2703 - val_accuracy: 0.8122\n",
      "Epoch 31/50\n",
      "782/782 [==============================] - 14s 17ms/step - loss: 0.0086 - accuracy: 0.9970 - val_loss: 1.3141 - val_accuracy: 0.8132\n",
      "Epoch 32/50\n",
      "782/782 [==============================] - 14s 17ms/step - loss: 0.0033 - accuracy: 0.9988 - val_loss: 1.2661 - val_accuracy: 0.8163\n",
      "Epoch 33/50\n",
      "782/782 [==============================] - 14s 18ms/step - loss: 0.0031 - accuracy: 0.9989 - val_loss: 1.2571 - val_accuracy: 0.8157\n",
      "Epoch 34/50\n",
      "782/782 [==============================] - 14s 18ms/step - loss: 0.0052 - accuracy: 0.9982 - val_loss: 1.2405 - val_accuracy: 0.8122\n",
      "Epoch 35/50\n",
      "782/782 [==============================] - 14s 17ms/step - loss: 0.0021 - accuracy: 0.9994 - val_loss: 1.3661 - val_accuracy: 0.8156\n",
      "Epoch 36/50\n",
      "782/782 [==============================] - 14s 18ms/step - loss: 0.0027 - accuracy: 0.9993 - val_loss: 1.3442 - val_accuracy: 0.8155\n",
      "Epoch 37/50\n",
      "782/782 [==============================] - 14s 18ms/step - loss: 5.3948e-04 - accuracy: 1.0000 - val_loss: 1.3131 - val_accuracy: 0.8096\n",
      "Epoch 38/50\n",
      "782/782 [==============================] - 14s 18ms/step - loss: 0.0030 - accuracy: 0.9992 - val_loss: 1.2957 - val_accuracy: 0.8038\n",
      "Epoch 39/50\n",
      "782/782 [==============================] - 14s 18ms/step - loss: 0.0062 - accuracy: 0.9985 - val_loss: 1.3288 - val_accuracy: 0.8123\n",
      "Epoch 40/50\n",
      "782/782 [==============================] - 14s 18ms/step - loss: 0.0047 - accuracy: 0.9985 - val_loss: 1.3538 - val_accuracy: 0.8146\n",
      "Epoch 41/50\n",
      "782/782 [==============================] - 14s 18ms/step - loss: 3.2718e-04 - accuracy: 0.9999 - val_loss: 1.4049 - val_accuracy: 0.8136\n",
      "Epoch 42/50\n",
      "782/782 [==============================] - 14s 18ms/step - loss: 0.0028 - accuracy: 0.9992 - val_loss: 1.3045 - val_accuracy: 0.8034\n",
      "Epoch 43/50\n",
      "782/782 [==============================] - 14s 18ms/step - loss: 0.0022 - accuracy: 0.9994 - val_loss: 1.4331 - val_accuracy: 0.8114\n",
      "Epoch 44/50\n",
      "782/782 [==============================] - 14s 17ms/step - loss: 0.0036 - accuracy: 0.9988 - val_loss: 1.2926 - val_accuracy: 0.8107\n",
      "Epoch 45/50\n",
      "782/782 [==============================] - 14s 17ms/step - loss: 0.0059 - accuracy: 0.9980 - val_loss: 1.3399 - val_accuracy: 0.8114\n",
      "Epoch 46/50\n",
      "782/782 [==============================] - 14s 18ms/step - loss: 0.0020 - accuracy: 0.9995 - val_loss: 1.3122 - val_accuracy: 0.8082\n",
      "Epoch 47/50\n",
      "782/782 [==============================] - 14s 18ms/step - loss: 8.0008e-04 - accuracy: 0.9998 - val_loss: 1.5104 - val_accuracy: 0.8134\n",
      "Epoch 48/50\n",
      "782/782 [==============================] - 14s 18ms/step - loss: 5.8875e-05 - accuracy: 1.0000 - val_loss: 1.5395 - val_accuracy: 0.8141\n",
      "Epoch 49/50\n",
      "782/782 [==============================] - 14s 18ms/step - loss: 3.5072e-05 - accuracy: 1.0000 - val_loss: 1.6167 - val_accuracy: 0.8138\n",
      "Epoch 50/50\n",
      "782/782 [==============================] - 14s 17ms/step - loss: 2.1241e-05 - accuracy: 1.0000 - val_loss: 1.6788 - val_accuracy: 0.8139\n"
     ]
    }
   ],
   "source": [
    "num_epochs = 50\n",
    "history1 = model1.fit(padded, training_labels_final, epochs=num_epochs, validation_data=(testing_padded, testing_labels_final))"
   ]
  },
  {
   "cell_type": "code",
   "execution_count": null,
   "metadata": {
    "colab": {
     "base_uri": "https://localhost:8080/",
     "height": 544
    },
    "executionInfo": {
     "elapsed": 637,
     "status": "ok",
     "timestamp": 1617575029194,
     "user": {
      "displayName": "",
      "photoUrl": "",
      "userId": ""
     },
     "user_tz": 240
    },
    "id": "07xpQvIV7400",
    "outputId": "9ddc46e3-4265-4530-fc9b-26d6cd6894f8"
   },
   "outputs": [
    {
     "data": {
      "image/png": "[encoded data removed]",
      "text/plain": [
       "<Figure size 432x288 with 1 Axes>"
      ]
     },
     "metadata": {
      "needs_background": "light",
      "tags": []
     },
     "output_type": "display_data"
    },
    {
     "data": {
      "image/png": "[encoded data removed]",
      "text/plain": [
       "<Figure size 432x288 with 1 Axes>"
      ]
     },
     "metadata": {
      "needs_background": "light",
      "tags": []
     },
     "output_type": "display_data"
    }
   ],
   "source": [
    "import matplotlib.pyplot as plt\n",
    "\n",
    "\n",
    "def plot_graphs(history1, string):\n",
    "  plt.plot(history1.history[string])\n",
    "  plt.plot(history1.history['val_'+string])\n",
    "  plt.xlabel(\"Epochs\")\n",
    "  plt.ylabel(string)\n",
    "  plt.legend([string, 'val_'+string])\n",
    "  plt.show()\n",
    "\n",
    "plot_graphs(history1, 'accuracy')\n",
    "plot_graphs(history1, 'loss')"
   ]
  },
  {
   "cell_type": "code",
   "execution_count": null,
   "metadata": {
    "colab": {
     "base_uri": "https://localhost:8080/"
    },
    "executionInfo": {
     "elapsed": 403,
     "status": "ok",
     "timestamp": 1617575177650,
     "user": {
      "displayName": "",
      "photoUrl": "",
      "userId": ""
     },
     "user_tz": 240
    },
    "id": "K_Jc7cY3Qxke",
    "outputId": "1b7fb8b7-214e-4768-d34d-685674ffe2a6"
   },
   "outputs": [
    {
     "name": "stdout",
     "output_type": "stream",
     "text": [
      "Model: \"sequential_2\"\n",
      "_________________________________________________________________\n",
      "Layer (type)                 Output Shape              Param #   \n",
      "=================================================================\n",
      "embedding_2 (Embedding)      (None, 120, 16)           160000    \n",
      "_________________________________________________________________\n",
      "conv1d (Conv1D)              (None, 116, 128)          10368     \n",
      "_________________________________________________________________\n",
      "global_average_pooling1d (Gl (None, 128)               0         \n",
      "_________________________________________________________________\n",
      "dense_4 (Dense)              (None, 6)                 774       \n",
      "_________________________________________________________________\n",
      "dense_5 (Dense)              (None, 1)                 7         \n",
      "=================================================================\n",
      "Total params: 171,149\n",
      "Trainable params: 171,149\n",
      "Non-trainable params: 0\n",
      "_________________________________________________________________\n"
     ]
    }
   ],
   "source": [
    "# Model Definition with Conv1D\n",
    "model2 = tf.keras.Sequential([\n",
    "    tf.keras.layers.Embedding(vocab_size, embedding_dim, input_length=max_length),\n",
    "    tf.keras.layers.Conv1D(128, 5, activation='relu'),\n",
    "    tf.keras.layers.GlobalAveragePooling1D(),\n",
    "    tf.keras.layers.Dense(6, activation='relu'),\n",
    "    tf.keras.layers.Dense(1, activation='sigmoid')\n",
    "])\n",
    "model2.compile(loss='binary_crossentropy',optimizer='adam',metrics=['accuracy'])\n",
    "model2.summary()\n"
   ]
  },
  {
   "cell_type": "code",
   "execution_count": null,
   "metadata": {
    "colab": {
     "base_uri": "https://localhost:8080/"
    },
    "executionInfo": {
     "elapsed": 282659,
     "status": "ok",
     "timestamp": 1617575467417,
     "user": {
      "displayName": "",
      "photoUrl": "",
      "userId": ""
     },
     "user_tz": 240
    },
    "id": "ElFCsDSO_Til",
    "outputId": "0c4bb6b4-3c3f-4fbc-efab-b783077254b1"
   },
   "outputs": [
    {
     "name": "stdout",
     "output_type": "stream",
     "text": [
      "Epoch 1/50\n",
      "782/782 [==============================] - 7s 7ms/step - loss: 0.6014 - accuracy: 0.6688 - val_loss: 0.4409 - val_accuracy: 0.8390\n",
      "Epoch 2/50\n",
      "782/782 [==============================] - 6s 7ms/step - loss: 0.3715 - accuracy: 0.8766 - val_loss: 0.3966 - val_accuracy: 0.8416\n",
      "Epoch 3/50\n",
      "782/782 [==============================] - 6s 7ms/step - loss: 0.2842 - accuracy: 0.9139 - val_loss: 0.4273 - val_accuracy: 0.8344\n",
      "Epoch 4/50\n",
      "782/782 [==============================] - 6s 7ms/step - loss: 0.2275 - accuracy: 0.9325 - val_loss: 0.4909 - val_accuracy: 0.8282\n",
      "Epoch 5/50\n",
      "782/782 [==============================] - 6s 7ms/step - loss: 0.1874 - accuracy: 0.9473 - val_loss: 0.5130 - val_accuracy: 0.8252\n",
      "Epoch 6/50\n",
      "782/782 [==============================] - 6s 7ms/step - loss: 0.1592 - accuracy: 0.9571 - val_loss: 0.6175 - val_accuracy: 0.8248\n",
      "Epoch 7/50\n",
      "782/782 [==============================] - 6s 7ms/step - loss: 0.1384 - accuracy: 0.9631 - val_loss: 0.6529 - val_accuracy: 0.8208\n",
      "Epoch 8/50\n",
      "782/782 [==============================] - 6s 7ms/step - loss: 0.1302 - accuracy: 0.9647 - val_loss: 0.7654 - val_accuracy: 0.8178\n",
      "Epoch 9/50\n",
      "782/782 [==============================] - 6s 7ms/step - loss: 0.1229 - accuracy: 0.9673 - val_loss: 0.8112 - val_accuracy: 0.8184\n",
      "Epoch 10/50\n",
      "782/782 [==============================] - 6s 7ms/step - loss: 0.1183 - accuracy: 0.9692 - val_loss: 0.8149 - val_accuracy: 0.8146\n",
      "Epoch 11/50\n",
      "782/782 [==============================] - 6s 7ms/step - loss: 0.1176 - accuracy: 0.9689 - val_loss: 0.8756 - val_accuracy: 0.8119\n",
      "Epoch 12/50\n",
      "782/782 [==============================] - 6s 7ms/step - loss: 0.1167 - accuracy: 0.9696 - val_loss: 1.0384 - val_accuracy: 0.8126\n",
      "Epoch 13/50\n",
      "782/782 [==============================] - 6s 7ms/step - loss: 0.1065 - accuracy: 0.9731 - val_loss: 0.9836 - val_accuracy: 0.8118\n",
      "Epoch 14/50\n",
      "782/782 [==============================] - 6s 7ms/step - loss: 0.1217 - accuracy: 0.9674 - val_loss: 1.0784 - val_accuracy: 0.8122\n",
      "Epoch 15/50\n",
      "782/782 [==============================] - 6s 7ms/step - loss: 0.1143 - accuracy: 0.9700 - val_loss: 1.2469 - val_accuracy: 0.8104\n",
      "Epoch 16/50\n",
      "782/782 [==============================] - 6s 7ms/step - loss: 0.1148 - accuracy: 0.9688 - val_loss: 1.3354 - val_accuracy: 0.8116\n",
      "Epoch 17/50\n",
      "782/782 [==============================] - 6s 7ms/step - loss: 0.1075 - accuracy: 0.9721 - val_loss: 1.0849 - val_accuracy: 0.8119\n",
      "Epoch 18/50\n",
      "782/782 [==============================] - 6s 7ms/step - loss: 0.1107 - accuracy: 0.9712 - val_loss: 1.1091 - val_accuracy: 0.8120\n",
      "Epoch 19/50\n",
      "782/782 [==============================] - 6s 7ms/step - loss: 0.1075 - accuracy: 0.9727 - val_loss: 1.2171 - val_accuracy: 0.8121\n",
      "Epoch 20/50\n",
      "782/782 [==============================] - 6s 7ms/step - loss: 0.1025 - accuracy: 0.9742 - val_loss: 1.1722 - val_accuracy: 0.8098\n",
      "Epoch 21/50\n",
      "782/782 [==============================] - 6s 7ms/step - loss: 0.1018 - accuracy: 0.9746 - val_loss: 1.2237 - val_accuracy: 0.8102\n",
      "Epoch 22/50\n",
      "782/782 [==============================] - 6s 7ms/step - loss: 0.1029 - accuracy: 0.9741 - val_loss: 1.1317 - val_accuracy: 0.8061\n",
      "Epoch 23/50\n",
      "782/782 [==============================] - 6s 7ms/step - loss: 0.1074 - accuracy: 0.9725 - val_loss: 1.2165 - val_accuracy: 0.8097\n",
      "Epoch 24/50\n",
      "782/782 [==============================] - 6s 7ms/step - loss: 0.1020 - accuracy: 0.9743 - val_loss: 1.4110 - val_accuracy: 0.8119\n",
      "Epoch 25/50\n",
      "782/782 [==============================] - 6s 7ms/step - loss: 0.1024 - accuracy: 0.9744 - val_loss: 1.3991 - val_accuracy: 0.8114\n",
      "Epoch 26/50\n",
      "782/782 [==============================] - 6s 7ms/step - loss: 0.1014 - accuracy: 0.9745 - val_loss: 1.1641 - val_accuracy: 0.8076\n",
      "Epoch 27/50\n",
      "782/782 [==============================] - 6s 7ms/step - loss: 0.1091 - accuracy: 0.9718 - val_loss: 1.4006 - val_accuracy: 0.8135\n",
      "Epoch 28/50\n",
      "782/782 [==============================] - 6s 7ms/step - loss: 0.1032 - accuracy: 0.9738 - val_loss: 1.5756 - val_accuracy: 0.8114\n",
      "Epoch 29/50\n",
      "782/782 [==============================] - 6s 7ms/step - loss: 0.1025 - accuracy: 0.9741 - val_loss: 1.5489 - val_accuracy: 0.8114\n",
      "Epoch 30/50\n",
      "782/782 [==============================] - 6s 7ms/step - loss: 0.0978 - accuracy: 0.9757 - val_loss: 1.5871 - val_accuracy: 0.8126\n",
      "Epoch 31/50\n",
      "782/782 [==============================] - 6s 7ms/step - loss: 0.1009 - accuracy: 0.9746 - val_loss: 1.4588 - val_accuracy: 0.8088\n",
      "Epoch 32/50\n",
      "782/782 [==============================] - 6s 7ms/step - loss: 0.0979 - accuracy: 0.9759 - val_loss: 1.5296 - val_accuracy: 0.8122\n",
      "Epoch 33/50\n",
      "782/782 [==============================] - 6s 7ms/step - loss: 0.0970 - accuracy: 0.9762 - val_loss: 1.5531 - val_accuracy: 0.8123\n",
      "Epoch 34/50\n",
      "782/782 [==============================] - 6s 7ms/step - loss: 0.0954 - accuracy: 0.9767 - val_loss: 1.3609 - val_accuracy: 0.8112\n",
      "Epoch 35/50\n",
      "782/782 [==============================] - 6s 7ms/step - loss: 0.1031 - accuracy: 0.9738 - val_loss: 1.4809 - val_accuracy: 0.8135\n",
      "Epoch 36/50\n",
      "782/782 [==============================] - 6s 7ms/step - loss: 0.1050 - accuracy: 0.9729 - val_loss: 1.4445 - val_accuracy: 0.8128\n",
      "Epoch 37/50\n",
      "782/782 [==============================] - 6s 7ms/step - loss: 0.0968 - accuracy: 0.9759 - val_loss: 1.7821 - val_accuracy: 0.8105\n",
      "Epoch 38/50\n",
      "782/782 [==============================] - 6s 7ms/step - loss: 0.0994 - accuracy: 0.9750 - val_loss: 1.7635 - val_accuracy: 0.8124\n",
      "Epoch 39/50\n",
      "782/782 [==============================] - 6s 7ms/step - loss: 0.0939 - accuracy: 0.9771 - val_loss: 1.4772 - val_accuracy: 0.8116\n",
      "Epoch 40/50\n",
      "782/782 [==============================] - 6s 7ms/step - loss: 0.0960 - accuracy: 0.9763 - val_loss: 1.8949 - val_accuracy: 0.8079\n",
      "Epoch 41/50\n",
      "782/782 [==============================] - 6s 7ms/step - loss: 0.1012 - accuracy: 0.9746 - val_loss: 1.7282 - val_accuracy: 0.8119\n",
      "Epoch 42/50\n",
      "782/782 [==============================] - 6s 7ms/step - loss: 0.0961 - accuracy: 0.9764 - val_loss: 1.2289 - val_accuracy: 0.8011\n",
      "Epoch 43/50\n",
      "782/782 [==============================] - 6s 7ms/step - loss: 0.0983 - accuracy: 0.9756 - val_loss: 1.4338 - val_accuracy: 0.8092\n",
      "Epoch 44/50\n",
      "782/782 [==============================] - 6s 7ms/step - loss: 0.1004 - accuracy: 0.9748 - val_loss: 1.4507 - val_accuracy: 0.8095\n",
      "Epoch 45/50\n",
      "782/782 [==============================] - 6s 7ms/step - loss: 0.1000 - accuracy: 0.9751 - val_loss: 1.5669 - val_accuracy: 0.8101\n",
      "Epoch 46/50\n",
      "782/782 [==============================] - 6s 7ms/step - loss: 0.1015 - accuracy: 0.9745 - val_loss: 1.5581 - val_accuracy: 0.8101\n",
      "Epoch 47/50\n",
      "782/782 [==============================] - 6s 7ms/step - loss: 0.1005 - accuracy: 0.9750 - val_loss: 1.5661 - val_accuracy: 0.8104\n",
      "Epoch 48/50\n",
      "782/782 [==============================] - 6s 7ms/step - loss: 0.0997 - accuracy: 0.9752 - val_loss: 1.3797 - val_accuracy: 0.8097\n",
      "Epoch 49/50\n",
      "782/782 [==============================] - 6s 7ms/step - loss: 0.0955 - accuracy: 0.9763 - val_loss: 1.4438 - val_accuracy: 0.8124\n",
      "Epoch 50/50\n",
      "782/782 [==============================] - 6s 7ms/step - loss: 0.1007 - accuracy: 0.9746 - val_loss: 1.3927 - val_accuracy: 0.8109\n"
     ]
    }
   ],
   "source": [
    "num_epochs = 50\n",
    "history2 = model2.fit(padded, training_labels_final, epochs=num_epochs, validation_data=(testing_padded, testing_labels_final))"
   ]
  },
  {
   "cell_type": "code",
   "execution_count": null,
   "metadata": {
    "colab": {
     "base_uri": "https://localhost:8080/",
     "height": 541
    },
    "executionInfo": {
     "elapsed": 686,
     "status": "ok",
     "timestamp": 1617575515804,
     "user": {
      "displayName": "",
      "photoUrl": "",
      "userId": ""
     },
     "user_tz": 240
    },
    "id": "YYwNYKb9_aqe",
    "outputId": "bd87c112-c559-41d9-d4c4-7a38a16f1419"
   },
   "outputs": [
    {
     "data": {
      "image/png": "[encoded data removed]",
      "text/plain": [
       "<Figure size 432x288 with 1 Axes>"
      ]
     },
     "metadata": {
      "needs_background": "light",
      "tags": []
     },
     "output_type": "display_data"
    },
    {
     "data": {
      "image/png": "[encoded data removed]",
      "text/plain": [
       "<Figure size 432x288 with 1 Axes>"
      ]
     },
     "metadata": {
      "needs_background": "light",
      "tags": []
     },
     "output_type": "display_data"
    }
   ],
   "source": [
    "import matplotlib.pyplot as plt\n",
    "\n",
    "\n",
    "def plot_graphs(history2, string):\n",
    "  plt.plot(history2.history[string])\n",
    "  plt.plot(history2.history['val_'+string])\n",
    "  plt.xlabel(\"Epochs\")\n",
    "  plt.ylabel(string)\n",
    "  plt.legend([string, 'val_'+string])\n",
    "  plt.show()\n",
    "\n",
    "plot_graphs(history2, 'accuracy')\n",
    "plot_graphs(history2, 'loss')"
   ]
  }
 ],
 "metadata": {
  "accelerator": "GPU",
  "colab": {
   "collapsed_sections": [],
   "name": "Copy of Course 3 - Week 3 - Lesson 2d.ipynb",
   "provenance": [
    {
     "file_id": "https://github.com/lmoroney/dlaicourse/blob/master/TensorFlow%20In%20Practice/Course%203%20-%20NLP/Course%203%20-%20Week%203%20-%20Lesson%202d.ipynb",
     "timestamp": 1617575694691
    }
   ],
   "toc_visible": true
  },
  "kernelspec": {
   "display_name": "Python 3",
   "language": "python",
   "name": "python3"
  },
  "language_info": {
   "codemirror_mode": {
    "name": "ipython",
    "version": 3
   },
   "file_extension": ".py",
   "mimetype": "text/x-python",
   "name": "python",
   "nbconvert_exporter": "python",
   "pygments_lexer": "ipython3",
   "version": "3.8.3"
  }
 },
 "nbformat": 4,
 "nbformat_minor": 1
}
