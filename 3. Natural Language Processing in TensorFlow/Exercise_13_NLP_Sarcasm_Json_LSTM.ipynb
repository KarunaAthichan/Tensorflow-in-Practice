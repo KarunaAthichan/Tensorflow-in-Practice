{
 "cells": [
  {
   "cell_type": "code",
   "execution_count": null,
   "metadata": {
    "id": "zX4Kg8DUTKWO"
   },
   "outputs": [],
   "source": [
    "#@title Licensed under the Apache License, Version 2.0 (the \"License\");\n",
    "# you may not use this file except in compliance with the License.\n",
    "# You may obtain a copy of the License at\n",
    "#\n",
    "# https://www.apache.org/licenses/LICENSE-2.0\n",
    "#\n",
    "# Unless required by applicable law or agreed to in writing, software\n",
    "# distributed under the License is distributed on an \"AS IS\" BASIS,\n",
    "# WITHOUT WARRANTIES OR CONDITIONS OF ANY KIND, either express or implied.\n",
    "# See the License for the specific language governing permissions and\n",
    "# limitations under the License."
   ]
  },
  {
   "cell_type": "markdown",
   "metadata": {
    "id": "jzd9rLBBqbgn"
   },
   "source": [
    "<a href=\"https://colab.research.google.com/github/lmoroney/dlaicourse/blob/master/TensorFlow%20In%20Practice/Course%203%20-%20NLP/Course%203%20-%20Week%203%20-%20Lesson%202.ipynb\" target=\"_parent\"><img src=\"https://colab.research.google.com/assets/colab-badge.svg\" alt=\"Open In Colab\"/></a>"
   ]
  },
  {
   "cell_type": "code",
   "execution_count": null,
   "metadata": {
    "colab": {
     "base_uri": "https://localhost:8080/"
    },
    "executionInfo": {
     "elapsed": 449180,
     "status": "ok",
     "timestamp": 1617587086424,
     "user": {
      "displayName": "",
      "photoUrl": "",
      "userId": ""
     },
     "user_tz": 240
    },
    "id": "jGwXGIXvFhXW",
    "outputId": "bba7a252-f458-4937-8b7a-c1fc2e0806af"
   },
   "outputs": [
    {
     "name": "stdout",
     "output_type": "stream",
     "text": [
      "--2021-04-05 01:37:20--  https://storage.googleapis.com/laurencemoroney-blog.appspot.com/sarcasm.json\n",
      "Resolving storage.googleapis.com (storage.googleapis.com)... 172.217.7.144, 172.217.15.80, 172.217.7.208, ...\n",
      "Connecting to storage.googleapis.com (storage.googleapis.com)|172.217.7.144|:443... connected.\n",
      "HTTP request sent, awaiting response... 200 OK\n",
      "Length: 5643545 (5.4M) [application/json]\n",
      "Saving to: ‘/tmp/sarcasm.json’\n",
      "\n",
      "\r",
      "/tmp/sarcasm.json     0%[                    ]       0  --.-KB/s               \r",
      "/tmp/sarcasm.json   100%[===================>]   5.38M  --.-KB/s    in 0.03s   \n",
      "\n",
      "2021-04-05 01:37:20 (168 MB/s) - ‘/tmp/sarcasm.json’ saved [5643545/5643545]\n",
      "\n",
      "Model: \"sequential\"\n",
      "_________________________________________________________________\n",
      "Layer (type)                 Output Shape              Param #   \n",
      "=================================================================\n",
      "embedding (Embedding)        (None, 120, 16)           16000     \n",
      "_________________________________________________________________\n",
      "bidirectional (Bidirectional (None, 64)                12544     \n",
      "_________________________________________________________________\n",
      "dense (Dense)                (None, 24)                1560      \n",
      "_________________________________________________________________\n",
      "dense_1 (Dense)              (None, 1)                 25        \n",
      "=================================================================\n",
      "Total params: 30,129\n",
      "Trainable params: 30,129\n",
      "Non-trainable params: 0\n",
      "_________________________________________________________________\n",
      "Epoch 1/50\n",
      "625/625 [==============================] - 42s 15ms/step - loss: 0.5441 - accuracy: 0.6949 - val_loss: 0.3874 - val_accuracy: 0.8223\n",
      "Epoch 2/50\n",
      "625/625 [==============================] - 8s 13ms/step - loss: 0.3431 - accuracy: 0.8455 - val_loss: 0.3678 - val_accuracy: 0.8328\n",
      "Epoch 3/50\n",
      "625/625 [==============================] - 8s 13ms/step - loss: 0.3105 - accuracy: 0.8630 - val_loss: 0.3722 - val_accuracy: 0.8316\n",
      "Epoch 4/50\n",
      "625/625 [==============================] - 8s 13ms/step - loss: 0.3009 - accuracy: 0.8634 - val_loss: 0.3767 - val_accuracy: 0.8350\n",
      "Epoch 5/50\n",
      "625/625 [==============================] - 8s 13ms/step - loss: 0.2853 - accuracy: 0.8765 - val_loss: 0.3889 - val_accuracy: 0.8281\n",
      "Epoch 6/50\n",
      "625/625 [==============================] - 8s 13ms/step - loss: 0.2782 - accuracy: 0.8765 - val_loss: 0.3870 - val_accuracy: 0.8240\n",
      "Epoch 7/50\n",
      "625/625 [==============================] - 8s 13ms/step - loss: 0.2676 - accuracy: 0.8864 - val_loss: 0.3803 - val_accuracy: 0.8305\n",
      "Epoch 8/50\n",
      "625/625 [==============================] - 8s 13ms/step - loss: 0.2585 - accuracy: 0.8865 - val_loss: 0.3893 - val_accuracy: 0.8265\n",
      "Epoch 9/50\n",
      "625/625 [==============================] - 8s 13ms/step - loss: 0.2448 - accuracy: 0.8995 - val_loss: 0.4096 - val_accuracy: 0.8244\n",
      "Epoch 10/50\n",
      "625/625 [==============================] - 8s 13ms/step - loss: 0.2379 - accuracy: 0.8989 - val_loss: 0.4008 - val_accuracy: 0.8228\n",
      "Epoch 11/50\n",
      "625/625 [==============================] - 8s 13ms/step - loss: 0.2304 - accuracy: 0.9026 - val_loss: 0.4093 - val_accuracy: 0.8261\n",
      "Epoch 12/50\n",
      "625/625 [==============================] - 8s 13ms/step - loss: 0.2352 - accuracy: 0.9025 - val_loss: 0.4503 - val_accuracy: 0.8229\n",
      "Epoch 13/50\n",
      "625/625 [==============================] - 8s 13ms/step - loss: 0.2247 - accuracy: 0.9062 - val_loss: 0.4226 - val_accuracy: 0.8229\n",
      "Epoch 14/50\n",
      "625/625 [==============================] - 8s 13ms/step - loss: 0.2142 - accuracy: 0.9106 - val_loss: 0.4324 - val_accuracy: 0.8210\n",
      "Epoch 15/50\n",
      "625/625 [==============================] - 8s 13ms/step - loss: 0.2104 - accuracy: 0.9133 - val_loss: 0.4603 - val_accuracy: 0.8190\n",
      "Epoch 16/50\n",
      "625/625 [==============================] - 8s 13ms/step - loss: 0.2069 - accuracy: 0.9159 - val_loss: 0.4805 - val_accuracy: 0.8195\n",
      "Epoch 17/50\n",
      "625/625 [==============================] - 8s 13ms/step - loss: 0.1967 - accuracy: 0.9214 - val_loss: 0.4998 - val_accuracy: 0.8174\n",
      "Epoch 18/50\n",
      "625/625 [==============================] - 8s 13ms/step - loss: 0.1909 - accuracy: 0.9229 - val_loss: 0.5269 - val_accuracy: 0.8150\n",
      "Epoch 19/50\n",
      "625/625 [==============================] - 8s 13ms/step - loss: 0.1840 - accuracy: 0.9226 - val_loss: 0.5564 - val_accuracy: 0.8137\n",
      "Epoch 20/50\n",
      "625/625 [==============================] - 8s 13ms/step - loss: 0.1784 - accuracy: 0.9273 - val_loss: 0.5509 - val_accuracy: 0.8158\n",
      "Epoch 21/50\n",
      "625/625 [==============================] - 8s 13ms/step - loss: 0.1741 - accuracy: 0.9280 - val_loss: 0.5547 - val_accuracy: 0.8071\n",
      "Epoch 22/50\n",
      "625/625 [==============================] - 8s 13ms/step - loss: 0.1614 - accuracy: 0.9371 - val_loss: 0.6192 - val_accuracy: 0.8129\n",
      "Epoch 23/50\n",
      "625/625 [==============================] - 8s 13ms/step - loss: 0.1616 - accuracy: 0.9350 - val_loss: 0.7039 - val_accuracy: 0.8125\n",
      "Epoch 24/50\n",
      "625/625 [==============================] - 8s 13ms/step - loss: 0.1459 - accuracy: 0.9404 - val_loss: 0.7720 - val_accuracy: 0.8062\n",
      "Epoch 25/50\n",
      "625/625 [==============================] - 8s 13ms/step - loss: 0.1460 - accuracy: 0.9435 - val_loss: 0.7113 - val_accuracy: 0.8117\n",
      "Epoch 26/50\n",
      "625/625 [==============================] - 8s 13ms/step - loss: 0.1395 - accuracy: 0.9432 - val_loss: 0.7845 - val_accuracy: 0.8109\n",
      "Epoch 27/50\n",
      "625/625 [==============================] - 8s 13ms/step - loss: 0.1363 - accuracy: 0.9446 - val_loss: 0.8652 - val_accuracy: 0.7991\n",
      "Epoch 28/50\n",
      "625/625 [==============================] - 8s 13ms/step - loss: 0.1210 - accuracy: 0.9502 - val_loss: 0.8644 - val_accuracy: 0.8059\n",
      "Epoch 29/50\n",
      "625/625 [==============================] - 8s 13ms/step - loss: 0.1250 - accuracy: 0.9478 - val_loss: 0.8874 - val_accuracy: 0.8073\n",
      "Epoch 30/50\n",
      "625/625 [==============================] - 8s 13ms/step - loss: 0.1124 - accuracy: 0.9544 - val_loss: 0.8979 - val_accuracy: 0.8056\n",
      "Epoch 31/50\n",
      "625/625 [==============================] - 8s 13ms/step - loss: 0.1139 - accuracy: 0.9531 - val_loss: 0.9891 - val_accuracy: 0.8027\n",
      "Epoch 32/50\n",
      "625/625 [==============================] - 8s 13ms/step - loss: 0.1093 - accuracy: 0.9556 - val_loss: 1.0646 - val_accuracy: 0.8025\n",
      "Epoch 33/50\n",
      "625/625 [==============================] - 8s 13ms/step - loss: 0.0993 - accuracy: 0.9604 - val_loss: 1.1462 - val_accuracy: 0.7977\n",
      "Epoch 34/50\n",
      "625/625 [==============================] - 8s 13ms/step - loss: 0.0998 - accuracy: 0.9582 - val_loss: 1.0843 - val_accuracy: 0.8019\n",
      "Epoch 35/50\n",
      "625/625 [==============================] - 8s 13ms/step - loss: 0.0930 - accuracy: 0.9612 - val_loss: 1.0636 - val_accuracy: 0.8032\n",
      "Epoch 36/50\n",
      "625/625 [==============================] - 8s 13ms/step - loss: 0.0919 - accuracy: 0.9640 - val_loss: 1.1544 - val_accuracy: 0.8004\n",
      "Epoch 37/50\n",
      "625/625 [==============================] - 8s 13ms/step - loss: 0.0874 - accuracy: 0.9628 - val_loss: 1.2828 - val_accuracy: 0.8035\n",
      "Epoch 38/50\n",
      "625/625 [==============================] - 8s 13ms/step - loss: 0.0862 - accuracy: 0.9649 - val_loss: 1.1868 - val_accuracy: 0.8082\n",
      "Epoch 39/50\n",
      "625/625 [==============================] - 8s 13ms/step - loss: 0.0884 - accuracy: 0.9634 - val_loss: 1.2815 - val_accuracy: 0.8003\n",
      "Epoch 40/50\n",
      "625/625 [==============================] - 8s 13ms/step - loss: 0.0810 - accuracy: 0.9668 - val_loss: 1.2999 - val_accuracy: 0.8031\n",
      "Epoch 41/50\n",
      "625/625 [==============================] - 8s 13ms/step - loss: 0.0817 - accuracy: 0.9650 - val_loss: 1.4225 - val_accuracy: 0.8003\n",
      "Epoch 42/50\n",
      "625/625 [==============================] - 8s 13ms/step - loss: 0.0715 - accuracy: 0.9688 - val_loss: 1.4591 - val_accuracy: 0.8058\n",
      "Epoch 43/50\n",
      "625/625 [==============================] - 8s 13ms/step - loss: 0.0751 - accuracy: 0.9664 - val_loss: 1.4874 - val_accuracy: 0.7986\n",
      "Epoch 44/50\n",
      "625/625 [==============================] - 8s 13ms/step - loss: 0.0764 - accuracy: 0.9675 - val_loss: 1.4341 - val_accuracy: 0.8040\n",
      "Epoch 45/50\n",
      "625/625 [==============================] - 8s 13ms/step - loss: 0.0698 - accuracy: 0.9699 - val_loss: 1.5727 - val_accuracy: 0.8028\n",
      "Epoch 46/50\n",
      "625/625 [==============================] - 8s 13ms/step - loss: 0.0709 - accuracy: 0.9688 - val_loss: 1.5525 - val_accuracy: 0.7942\n",
      "Epoch 47/50\n",
      "625/625 [==============================] - 8s 13ms/step - loss: 0.0728 - accuracy: 0.9677 - val_loss: 1.5857 - val_accuracy: 0.8022\n",
      "Epoch 48/50\n",
      "625/625 [==============================] - 8s 13ms/step - loss: 0.0649 - accuracy: 0.9723 - val_loss: 1.7810 - val_accuracy: 0.7997\n",
      "Epoch 49/50\n",
      "625/625 [==============================] - 8s 13ms/step - loss: 0.0605 - accuracy: 0.9728 - val_loss: 1.6908 - val_accuracy: 0.7970\n",
      "Epoch 50/50\n",
      "625/625 [==============================] - 8s 13ms/step - loss: 0.0600 - accuracy: 0.9723 - val_loss: 1.7674 - val_accuracy: 0.7965\n"
     ]
    }
   ],
   "source": [
    "import numpy as np\n",
    "\n",
    "import json\n",
    "import tensorflow as tf\n",
    "\n",
    "from tensorflow.keras.preprocessing.text import Tokenizer\n",
    "from tensorflow.keras.preprocessing.sequence import pad_sequences\n",
    "\n",
    "!wget --no-check-certificate \\\n",
    "    https://storage.googleapis.com/laurencemoroney-blog.appspot.com/sarcasm.json \\\n",
    "    -O /tmp/sarcasm.json\n",
    "\n",
    "vocab_size = 1000\n",
    "embedding_dim = 16\n",
    "max_length = 120\n",
    "trunc_type='post'\n",
    "padding_type='post'\n",
    "oov_tok = \"<OOV>\"\n",
    "training_size = 20000\n",
    "\n",
    "\n",
    "with open(\"/tmp/sarcasm.json\", 'r') as f:\n",
    "    datastore = json.load(f)\n",
    "\n",
    "\n",
    "sentences = []\n",
    "labels = []\n",
    "urls = []\n",
    "for item in datastore:\n",
    "    sentences.append(item['headline'])\n",
    "    labels.append(item['is_sarcastic'])\n",
    "\n",
    "training_sentences = sentences[0:training_size]\n",
    "testing_sentences = sentences[training_size:]\n",
    "training_labels = labels[0:training_size]\n",
    "testing_labels = labels[training_size:]\n",
    "\n",
    "tokenizer = Tokenizer(num_words=vocab_size, oov_token=oov_tok)\n",
    "tokenizer.fit_on_texts(training_sentences)\n",
    "\n",
    "word_index = tokenizer.word_index\n",
    "\n",
    "training_sequences = tokenizer.texts_to_sequences(training_sentences)\n",
    "training_padded = pad_sequences(training_sequences, maxlen=max_length, padding=padding_type, truncating=trunc_type)\n",
    "\n",
    "testing_sequences = tokenizer.texts_to_sequences(testing_sentences)\n",
    "testing_padded = pad_sequences(testing_sequences, maxlen=max_length, padding=padding_type, truncating=trunc_type)\n",
    "\n",
    "model = tf.keras.Sequential([\n",
    "    tf.keras.layers.Embedding(vocab_size, embedding_dim, input_length=max_length),\n",
    "    tf.keras.layers.Bidirectional(tf.keras.layers.LSTM(32)),\n",
    "    tf.keras.layers.Dense(24, activation='relu'),\n",
    "    tf.keras.layers.Dense(1, activation='sigmoid')\n",
    "])\n",
    "model.compile(loss='binary_crossentropy',optimizer='adam',metrics=['accuracy'])\n",
    "model.summary()\n",
    "\n",
    "num_epochs = 50\n",
    "training_padded = np.array(training_padded)\n",
    "training_labels = np.array(training_labels)\n",
    "testing_padded = np.array(testing_padded)\n",
    "testing_labels = np.array(testing_labels)\n",
    "history = model.fit(training_padded, training_labels, epochs=num_epochs, validation_data=(testing_padded, testing_labels), verbose=1)\n"
   ]
  },
  {
   "cell_type": "code",
   "execution_count": null,
   "metadata": {
    "colab": {
     "base_uri": "https://localhost:8080/",
     "height": 541
    },
    "executionInfo": {
     "elapsed": 625,
     "status": "ok",
     "timestamp": 1617587095794,
     "user": {
      "displayName": "",
      "photoUrl": "",
      "userId": ""
     },
     "user_tz": 240
    },
    "id": "g9DC6dmLF8DC",
    "outputId": "c89b9360-7f72-4bad-c467-9b5c2e565698"
   },
   "outputs": [
    {
     "data": {
      "image/png": "[encoded data removed]",
      "text/plain": [
       "<Figure size 432x288 with 1 Axes>"
      ]
     },
     "metadata": {
      "needs_background": "light",
      "tags": []
     },
     "output_type": "display_data"
    },
    {
     "data": {
      "image/png": "[encoded data removed]",
      "text/plain": [
       "<Figure size 432x288 with 1 Axes>"
      ]
     },
     "metadata": {
      "needs_background": "light",
      "tags": []
     },
     "output_type": "display_data"
    }
   ],
   "source": [
    "import matplotlib.pyplot as plt\n",
    "\n",
    "\n",
    "def plot_graphs(history, string):\n",
    "  plt.plot(history.history[string])\n",
    "  plt.plot(history.history['val_'+string])\n",
    "  plt.xlabel(\"Epochs\")\n",
    "  plt.ylabel(string)\n",
    "  plt.legend([string, 'val_'+string])\n",
    "  plt.show()\n",
    "\n",
    "plot_graphs(history, 'accuracy')\n",
    "plot_graphs(history, 'loss')"
   ]
  },
  {
   "cell_type": "code",
   "execution_count": null,
   "metadata": {
    "id": "7ZEZIUppGhdi"
   },
   "outputs": [],
   "source": [
    "model.save(\"test.h5\")"
   ]
  }
 ],
 "metadata": {
  "accelerator": "GPU",
  "colab": {
   "collapsed_sections": [],
   "name": "Copy of Course 3 - Week 3 - Lesson 2.ipynb",
   "provenance": [
    {
     "file_id": "https://github.com/lmoroney/dlaicourse/blob/master/TensorFlow%20In%20Practice/Course%203%20-%20NLP/Course%203%20-%20Week%203%20-%20Lesson%202.ipynb",
     "timestamp": 1617587122610
    }
   ],
   "toc_visible": true
  },
  "kernelspec": {
   "display_name": "Python 3",
   "language": "python",
   "name": "python3"
  },
  "language_info": {
   "codemirror_mode": {
    "name": "ipython",
    "version": 3
   },
   "file_extension": ".py",
   "mimetype": "text/x-python",
   "name": "python",
   "nbconvert_exporter": "python",
   "pygments_lexer": "ipython3",
   "version": "3.8.3"
  }
 },
 "nbformat": 4,
 "nbformat_minor": 1
}
